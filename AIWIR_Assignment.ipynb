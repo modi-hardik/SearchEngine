{
  "nbformat": 4,
  "nbformat_minor": 0,
  "metadata": {
    "colab": {
      "name": "AIWIR_Assignment.ipynb",
      "provenance": []
    },
    "kernelspec": {
      "name": "python3",
      "display_name": "Python 3"
    },
    "language_info": {
      "name": "python"
    }
  },
  "cells": [
    {
      "cell_type": "markdown",
      "source": [
        "#AIWIR Assignment: Building Search Engine"
      ],
      "metadata": {
        "id": "mruBN9KOH8zU"
      }
    },
    {
      "cell_type": "markdown",
      "source": [
        "##[Music Review Classification](https://www.kaggle.com/datasets/eswarchandt/amazon-music-reviews) is the dataset we have used."
      ],
      "metadata": {
        "id": "F7NqS2YeBslr"
      }
    },
    {
      "cell_type": "markdown",
      "source": [
        "###Importing Dataset from Local Machine to Colab"
      ],
      "metadata": {
        "id": "9eadxArUChWm"
      }
    },
    {
      "cell_type": "code",
      "source": [
        "from google.colab import files\n",
        "uploaded  = files.upload()"
      ],
      "metadata": {
        "colab": {
          "resources": {
            "http://localhost:8080/nbextensions/google.colab/files.js": {
              "data": "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",
              "ok": true,
              "headers": [
                [
                  "content-type",
                  "application/javascript"
                ]
              ],
              "status": 200,
              "status_text": ""
            }
          },
          "base_uri": "https://localhost:8080/",
          "height": 74
        },
        "id": "1ksr9pJjhgpA",
        "outputId": "2d14fc45-45f7-402c-854f-a70bed74a4e0"
      },
      "execution_count": 9,
      "outputs": [
        {
          "output_type": "display_data",
          "data": {
            "text/plain": [
              "<IPython.core.display.HTML object>"
            ],
            "text/html": [
              "\n",
              "     <input type=\"file\" id=\"files-85abea80-418d-47ca-9395-19aad8b8a561\" name=\"files[]\" multiple disabled\n",
              "        style=\"border:none\" />\n",
              "     <output id=\"result-85abea80-418d-47ca-9395-19aad8b8a561\">\n",
              "      Upload widget is only available when the cell has been executed in the\n",
              "      current browser session. Please rerun this cell to enable.\n",
              "      </output>\n",
              "      <script src=\"/nbextensions/google.colab/files.js\"></script> "
            ]
          },
          "metadata": {}
        },
        {
          "output_type": "stream",
          "name": "stdout",
          "text": [
            "Saving Musical_instruments_reviews.csv to Musical_instruments_reviews (1).csv\n"
          ]
        }
      ]
    },
    {
      "cell_type": "markdown",
      "source": [
        "###Displaying the Datset"
      ],
      "metadata": {
        "id": "ZeS_XyY3Ct-p"
      }
    },
    {
      "cell_type": "code",
      "source": [
        "import pandas as pd\n",
        "import io\n",
        " \n",
        "df = pd.read_csv(io.BytesIO(uploaded['Musical_instruments_reviews.csv']))\n",
        "df.head()"
      ],
      "metadata": {
        "colab": {
          "base_uri": "https://localhost:8080/",
          "height": 302
        },
        "id": "UZsL3GBsiJ6R",
        "outputId": "3cbade6d-0a12-43d6-cab0-b9c98fd0bca4"
      },
      "execution_count": 38,
      "outputs": [
        {
          "output_type": "execute_result",
          "data": {
            "text/plain": [
              "       reviewerID        asin  \\\n",
              "0  A2IBPI20UZIR0U  1384719342   \n",
              "1  A14VAT5EAX3D9S  1384719342   \n",
              "2  A195EZSQDW3E21  1384719342   \n",
              "3  A2C00NNG1ZQQG2  1384719342   \n",
              "4   A94QU4C90B1AX  1384719342   \n",
              "\n",
              "                                       reviewerName   helpful  \\\n",
              "0  cassandra tu \"Yeah, well, that's just like, u...    [0, 0]   \n",
              "1                                              Jake  [13, 14]   \n",
              "2                     Rick Bennette \"Rick Bennette\"    [1, 1]   \n",
              "3                         RustyBill \"Sunday Rocker\"    [0, 0]   \n",
              "4                                     SEAN MASLANKA    [0, 0]   \n",
              "\n",
              "                                          reviewText  overall  \\\n",
              "0  Not much to write about here, but it does exac...      5.0   \n",
              "1  The product does exactly as it should and is q...      5.0   \n",
              "2  The primary job of this device is to block the...      5.0   \n",
              "3  Nice windscreen protects my MXL mic and preven...      5.0   \n",
              "4  This pop filter is great. It looks and perform...      5.0   \n",
              "\n",
              "                                 summary  unixReviewTime   reviewTime  \n",
              "0                                   good      1393545600  02 28, 2014  \n",
              "1                                   Jake      1363392000  03 16, 2013  \n",
              "2                   It Does The Job Well      1377648000  08 28, 2013  \n",
              "3          GOOD WINDSCREEN FOR THE MONEY      1392336000  02 14, 2014  \n",
              "4  No more pops when I record my vocals.      1392940800  02 21, 2014  "
            ],
            "text/html": [
              "\n",
              "  <div id=\"df-300a4a4f-9c95-4b5c-9096-02555e05fda2\">\n",
              "    <div class=\"colab-df-container\">\n",
              "      <div>\n",
              "<style scoped>\n",
              "    .dataframe tbody tr th:only-of-type {\n",
              "        vertical-align: middle;\n",
              "    }\n",
              "\n",
              "    .dataframe tbody tr th {\n",
              "        vertical-align: top;\n",
              "    }\n",
              "\n",
              "    .dataframe thead th {\n",
              "        text-align: right;\n",
              "    }\n",
              "</style>\n",
              "<table border=\"1\" class=\"dataframe\">\n",
              "  <thead>\n",
              "    <tr style=\"text-align: right;\">\n",
              "      <th></th>\n",
              "      <th>reviewerID</th>\n",
              "      <th>asin</th>\n",
              "      <th>reviewerName</th>\n",
              "      <th>helpful</th>\n",
              "      <th>reviewText</th>\n",
              "      <th>overall</th>\n",
              "      <th>summary</th>\n",
              "      <th>unixReviewTime</th>\n",
              "      <th>reviewTime</th>\n",
              "    </tr>\n",
              "  </thead>\n",
              "  <tbody>\n",
              "    <tr>\n",
              "      <th>0</th>\n",
              "      <td>A2IBPI20UZIR0U</td>\n",
              "      <td>1384719342</td>\n",
              "      <td>cassandra tu \"Yeah, well, that's just like, u...</td>\n",
              "      <td>[0, 0]</td>\n",
              "      <td>Not much to write about here, but it does exac...</td>\n",
              "      <td>5.0</td>\n",
              "      <td>good</td>\n",
              "      <td>1393545600</td>\n",
              "      <td>02 28, 2014</td>\n",
              "    </tr>\n",
              "    <tr>\n",
              "      <th>1</th>\n",
              "      <td>A14VAT5EAX3D9S</td>\n",
              "      <td>1384719342</td>\n",
              "      <td>Jake</td>\n",
              "      <td>[13, 14]</td>\n",
              "      <td>The product does exactly as it should and is q...</td>\n",
              "      <td>5.0</td>\n",
              "      <td>Jake</td>\n",
              "      <td>1363392000</td>\n",
              "      <td>03 16, 2013</td>\n",
              "    </tr>\n",
              "    <tr>\n",
              "      <th>2</th>\n",
              "      <td>A195EZSQDW3E21</td>\n",
              "      <td>1384719342</td>\n",
              "      <td>Rick Bennette \"Rick Bennette\"</td>\n",
              "      <td>[1, 1]</td>\n",
              "      <td>The primary job of this device is to block the...</td>\n",
              "      <td>5.0</td>\n",
              "      <td>It Does The Job Well</td>\n",
              "      <td>1377648000</td>\n",
              "      <td>08 28, 2013</td>\n",
              "    </tr>\n",
              "    <tr>\n",
              "      <th>3</th>\n",
              "      <td>A2C00NNG1ZQQG2</td>\n",
              "      <td>1384719342</td>\n",
              "      <td>RustyBill \"Sunday Rocker\"</td>\n",
              "      <td>[0, 0]</td>\n",
              "      <td>Nice windscreen protects my MXL mic and preven...</td>\n",
              "      <td>5.0</td>\n",
              "      <td>GOOD WINDSCREEN FOR THE MONEY</td>\n",
              "      <td>1392336000</td>\n",
              "      <td>02 14, 2014</td>\n",
              "    </tr>\n",
              "    <tr>\n",
              "      <th>4</th>\n",
              "      <td>A94QU4C90B1AX</td>\n",
              "      <td>1384719342</td>\n",
              "      <td>SEAN MASLANKA</td>\n",
              "      <td>[0, 0]</td>\n",
              "      <td>This pop filter is great. It looks and perform...</td>\n",
              "      <td>5.0</td>\n",
              "      <td>No more pops when I record my vocals.</td>\n",
              "      <td>1392940800</td>\n",
              "      <td>02 21, 2014</td>\n",
              "    </tr>\n",
              "  </tbody>\n",
              "</table>\n",
              "</div>\n",
              "      <button class=\"colab-df-convert\" onclick=\"convertToInteractive('df-300a4a4f-9c95-4b5c-9096-02555e05fda2')\"\n",
              "              title=\"Convert this dataframe to an interactive table.\"\n",
              "              style=\"display:none;\">\n",
              "        \n",
              "  <svg xmlns=\"http://www.w3.org/2000/svg\" height=\"24px\"viewBox=\"0 0 24 24\"\n",
              "       width=\"24px\">\n",
              "    <path d=\"M0 0h24v24H0V0z\" fill=\"none\"/>\n",
              "    <path d=\"M18.56 5.44l.94 2.06.94-2.06 2.06-.94-2.06-.94-.94-2.06-.94 2.06-2.06.94zm-11 1L8.5 8.5l.94-2.06 2.06-.94-2.06-.94L8.5 2.5l-.94 2.06-2.06.94zm10 10l.94 2.06.94-2.06 2.06-.94-2.06-.94-.94-2.06-.94 2.06-2.06.94z\"/><path d=\"M17.41 7.96l-1.37-1.37c-.4-.4-.92-.59-1.43-.59-.52 0-1.04.2-1.43.59L10.3 9.45l-7.72 7.72c-.78.78-.78 2.05 0 2.83L4 21.41c.39.39.9.59 1.41.59.51 0 1.02-.2 1.41-.59l7.78-7.78 2.81-2.81c.8-.78.8-2.07 0-2.86zM5.41 20L4 18.59l7.72-7.72 1.47 1.35L5.41 20z\"/>\n",
              "  </svg>\n",
              "      </button>\n",
              "      \n",
              "  <style>\n",
              "    .colab-df-container {\n",
              "      display:flex;\n",
              "      flex-wrap:wrap;\n",
              "      gap: 12px;\n",
              "    }\n",
              "\n",
              "    .colab-df-convert {\n",
              "      background-color: #E8F0FE;\n",
              "      border: none;\n",
              "      border-radius: 50%;\n",
              "      cursor: pointer;\n",
              "      display: none;\n",
              "      fill: #1967D2;\n",
              "      height: 32px;\n",
              "      padding: 0 0 0 0;\n",
              "      width: 32px;\n",
              "    }\n",
              "\n",
              "    .colab-df-convert:hover {\n",
              "      background-color: #E2EBFA;\n",
              "      box-shadow: 0px 1px 2px rgba(60, 64, 67, 0.3), 0px 1px 3px 1px rgba(60, 64, 67, 0.15);\n",
              "      fill: #174EA6;\n",
              "    }\n",
              "\n",
              "    [theme=dark] .colab-df-convert {\n",
              "      background-color: #3B4455;\n",
              "      fill: #D2E3FC;\n",
              "    }\n",
              "\n",
              "    [theme=dark] .colab-df-convert:hover {\n",
              "      background-color: #434B5C;\n",
              "      box-shadow: 0px 1px 3px 1px rgba(0, 0, 0, 0.15);\n",
              "      filter: drop-shadow(0px 1px 2px rgba(0, 0, 0, 0.3));\n",
              "      fill: #FFFFFF;\n",
              "    }\n",
              "  </style>\n",
              "\n",
              "      <script>\n",
              "        const buttonEl =\n",
              "          document.querySelector('#df-300a4a4f-9c95-4b5c-9096-02555e05fda2 button.colab-df-convert');\n",
              "        buttonEl.style.display =\n",
              "          google.colab.kernel.accessAllowed ? 'block' : 'none';\n",
              "\n",
              "        async function convertToInteractive(key) {\n",
              "          const element = document.querySelector('#df-300a4a4f-9c95-4b5c-9096-02555e05fda2');\n",
              "          const dataTable =\n",
              "            await google.colab.kernel.invokeFunction('convertToInteractive',\n",
              "                                                     [key], {});\n",
              "          if (!dataTable) return;\n",
              "\n",
              "          const docLinkHtml = 'Like what you see? Visit the ' +\n",
              "            '<a target=\"_blank\" href=https://colab.research.google.com/notebooks/data_table.ipynb>data table notebook</a>'\n",
              "            + ' to learn more about interactive tables.';\n",
              "          element.innerHTML = '';\n",
              "          dataTable['output_type'] = 'display_data';\n",
              "          await google.colab.output.renderOutput(dataTable, element);\n",
              "          const docLink = document.createElement('div');\n",
              "          docLink.innerHTML = docLinkHtml;\n",
              "          element.appendChild(docLink);\n",
              "        }\n",
              "      </script>\n",
              "    </div>\n",
              "  </div>\n",
              "  "
            ]
          },
          "metadata": {},
          "execution_count": 38
        }
      ]
    },
    {
      "cell_type": "markdown",
      "source": [
        "###We will be working on the **reviewText column** of the dataset because it has punctuations, numbers and NAN characters. So, we drop the rest of the columns"
      ],
      "metadata": {
        "id": "UMILffGOC6sk"
      }
    },
    {
      "cell_type": "code",
      "source": [
        "df = df['reviewText'].to_frame()\n",
        "df.head()"
      ],
      "metadata": {
        "colab": {
          "base_uri": "https://localhost:8080/",
          "height": 206
        },
        "id": "QcDeSphF8kwd",
        "outputId": "dc0553c4-5ebd-47bd-cc54-15880a29cc06"
      },
      "execution_count": 39,
      "outputs": [
        {
          "output_type": "execute_result",
          "data": {
            "text/plain": [
              "                                          reviewText\n",
              "0  Not much to write about here, but it does exac...\n",
              "1  The product does exactly as it should and is q...\n",
              "2  The primary job of this device is to block the...\n",
              "3  Nice windscreen protects my MXL mic and preven...\n",
              "4  This pop filter is great. It looks and perform..."
            ],
            "text/html": [
              "\n",
              "  <div id=\"df-55130862-2340-4580-bbb7-5f2d7535f3bb\">\n",
              "    <div class=\"colab-df-container\">\n",
              "      <div>\n",
              "<style scoped>\n",
              "    .dataframe tbody tr th:only-of-type {\n",
              "        vertical-align: middle;\n",
              "    }\n",
              "\n",
              "    .dataframe tbody tr th {\n",
              "        vertical-align: top;\n",
              "    }\n",
              "\n",
              "    .dataframe thead th {\n",
              "        text-align: right;\n",
              "    }\n",
              "</style>\n",
              "<table border=\"1\" class=\"dataframe\">\n",
              "  <thead>\n",
              "    <tr style=\"text-align: right;\">\n",
              "      <th></th>\n",
              "      <th>reviewText</th>\n",
              "    </tr>\n",
              "  </thead>\n",
              "  <tbody>\n",
              "    <tr>\n",
              "      <th>0</th>\n",
              "      <td>Not much to write about here, but it does exac...</td>\n",
              "    </tr>\n",
              "    <tr>\n",
              "      <th>1</th>\n",
              "      <td>The product does exactly as it should and is q...</td>\n",
              "    </tr>\n",
              "    <tr>\n",
              "      <th>2</th>\n",
              "      <td>The primary job of this device is to block the...</td>\n",
              "    </tr>\n",
              "    <tr>\n",
              "      <th>3</th>\n",
              "      <td>Nice windscreen protects my MXL mic and preven...</td>\n",
              "    </tr>\n",
              "    <tr>\n",
              "      <th>4</th>\n",
              "      <td>This pop filter is great. It looks and perform...</td>\n",
              "    </tr>\n",
              "  </tbody>\n",
              "</table>\n",
              "</div>\n",
              "      <button class=\"colab-df-convert\" onclick=\"convertToInteractive('df-55130862-2340-4580-bbb7-5f2d7535f3bb')\"\n",
              "              title=\"Convert this dataframe to an interactive table.\"\n",
              "              style=\"display:none;\">\n",
              "        \n",
              "  <svg xmlns=\"http://www.w3.org/2000/svg\" height=\"24px\"viewBox=\"0 0 24 24\"\n",
              "       width=\"24px\">\n",
              "    <path d=\"M0 0h24v24H0V0z\" fill=\"none\"/>\n",
              "    <path d=\"M18.56 5.44l.94 2.06.94-2.06 2.06-.94-2.06-.94-.94-2.06-.94 2.06-2.06.94zm-11 1L8.5 8.5l.94-2.06 2.06-.94-2.06-.94L8.5 2.5l-.94 2.06-2.06.94zm10 10l.94 2.06.94-2.06 2.06-.94-2.06-.94-.94-2.06-.94 2.06-2.06.94z\"/><path d=\"M17.41 7.96l-1.37-1.37c-.4-.4-.92-.59-1.43-.59-.52 0-1.04.2-1.43.59L10.3 9.45l-7.72 7.72c-.78.78-.78 2.05 0 2.83L4 21.41c.39.39.9.59 1.41.59.51 0 1.02-.2 1.41-.59l7.78-7.78 2.81-2.81c.8-.78.8-2.07 0-2.86zM5.41 20L4 18.59l7.72-7.72 1.47 1.35L5.41 20z\"/>\n",
              "  </svg>\n",
              "      </button>\n",
              "      \n",
              "  <style>\n",
              "    .colab-df-container {\n",
              "      display:flex;\n",
              "      flex-wrap:wrap;\n",
              "      gap: 12px;\n",
              "    }\n",
              "\n",
              "    .colab-df-convert {\n",
              "      background-color: #E8F0FE;\n",
              "      border: none;\n",
              "      border-radius: 50%;\n",
              "      cursor: pointer;\n",
              "      display: none;\n",
              "      fill: #1967D2;\n",
              "      height: 32px;\n",
              "      padding: 0 0 0 0;\n",
              "      width: 32px;\n",
              "    }\n",
              "\n",
              "    .colab-df-convert:hover {\n",
              "      background-color: #E2EBFA;\n",
              "      box-shadow: 0px 1px 2px rgba(60, 64, 67, 0.3), 0px 1px 3px 1px rgba(60, 64, 67, 0.15);\n",
              "      fill: #174EA6;\n",
              "    }\n",
              "\n",
              "    [theme=dark] .colab-df-convert {\n",
              "      background-color: #3B4455;\n",
              "      fill: #D2E3FC;\n",
              "    }\n",
              "\n",
              "    [theme=dark] .colab-df-convert:hover {\n",
              "      background-color: #434B5C;\n",
              "      box-shadow: 0px 1px 3px 1px rgba(0, 0, 0, 0.15);\n",
              "      filter: drop-shadow(0px 1px 2px rgba(0, 0, 0, 0.3));\n",
              "      fill: #FFFFFF;\n",
              "    }\n",
              "  </style>\n",
              "\n",
              "      <script>\n",
              "        const buttonEl =\n",
              "          document.querySelector('#df-55130862-2340-4580-bbb7-5f2d7535f3bb button.colab-df-convert');\n",
              "        buttonEl.style.display =\n",
              "          google.colab.kernel.accessAllowed ? 'block' : 'none';\n",
              "\n",
              "        async function convertToInteractive(key) {\n",
              "          const element = document.querySelector('#df-55130862-2340-4580-bbb7-5f2d7535f3bb');\n",
              "          const dataTable =\n",
              "            await google.colab.kernel.invokeFunction('convertToInteractive',\n",
              "                                                     [key], {});\n",
              "          if (!dataTable) return;\n",
              "\n",
              "          const docLinkHtml = 'Like what you see? Visit the ' +\n",
              "            '<a target=\"_blank\" href=https://colab.research.google.com/notebooks/data_table.ipynb>data table notebook</a>'\n",
              "            + ' to learn more about interactive tables.';\n",
              "          element.innerHTML = '';\n",
              "          dataTable['output_type'] = 'display_data';\n",
              "          await google.colab.output.renderOutput(dataTable, element);\n",
              "          const docLink = document.createElement('div');\n",
              "          docLink.innerHTML = docLinkHtml;\n",
              "          element.appendChild(docLink);\n",
              "        }\n",
              "      </script>\n",
              "    </div>\n",
              "  </div>\n",
              "  "
            ]
          },
          "metadata": {},
          "execution_count": 39
        }
      ]
    },
    {
      "cell_type": "markdown",
      "source": [
        "### Corpus Length"
      ],
      "metadata": {
        "id": "UJjoMsNGDRsh"
      }
    },
    {
      "cell_type": "code",
      "source": [
        "print(\"Number of documents in the corpus: \", len(df))"
      ],
      "metadata": {
        "colab": {
          "base_uri": "https://localhost:8080/"
        },
        "id": "MgIsSVCZiiAQ",
        "outputId": "45da4ad8-9283-4036-b126-9f842146a3f7"
      },
      "execution_count": 34,
      "outputs": [
        {
          "output_type": "stream",
          "name": "stdout",
          "text": [
            "Number of documents in the corpus:  10261\n"
          ]
        }
      ]
    },
    {
      "cell_type": "markdown",
      "source": [
        "## Preprocessing stage"
      ],
      "metadata": {
        "id": "g16_yYXZDW6P"
      }
    },
    {
      "cell_type": "markdown",
      "source": [
        "  ### 1. Removing all NAN characters"
      ],
      "metadata": {
        "id": "nf3iC10MDp2e"
      }
    },
    {
      "cell_type": "code",
      "source": [
        "df['reviewText'] = df.fillna({'reviewText':''})"
      ],
      "metadata": {
        "id": "iPa_hxPE_bsd"
      },
      "execution_count": 47,
      "outputs": []
    },
    {
      "cell_type": "markdown",
      "source": [
        "  ### 2. Removing punctuations"
      ],
      "metadata": {
        "id": "l96d9LBtD1_b"
      }
    },
    {
      "cell_type": "code",
      "source": [
        "import string\n",
        "i = 0;\n",
        "for line in range(len(df['reviewText'])):\n",
        "    # print(line)\n",
        "     df['reviewText'][line] = df['reviewText'][line].translate(str.maketrans('', '', string.punctuation))\n",
        "df.head()"
      ],
      "metadata": {
        "colab": {
          "base_uri": "https://localhost:8080/",
          "height": 206
        },
        "id": "7QB36uJykCQ5",
        "outputId": "393b7305-9e4c-4fe8-857c-6260d3416354"
      },
      "execution_count": 48,
      "outputs": [
        {
          "output_type": "execute_result",
          "data": {
            "text/plain": [
              "                                          reviewText\n",
              "0  Not much to write about here but it does exact...\n",
              "1  The product does exactly as it should and is q...\n",
              "2  The primary job of this device is to block the...\n",
              "3  Nice windscreen protects my MXL mic and preven...\n",
              "4  This pop filter is great It looks and performs..."
            ],
            "text/html": [
              "\n",
              "  <div id=\"df-9f861642-4656-48cb-9b5b-f64544237880\">\n",
              "    <div class=\"colab-df-container\">\n",
              "      <div>\n",
              "<style scoped>\n",
              "    .dataframe tbody tr th:only-of-type {\n",
              "        vertical-align: middle;\n",
              "    }\n",
              "\n",
              "    .dataframe tbody tr th {\n",
              "        vertical-align: top;\n",
              "    }\n",
              "\n",
              "    .dataframe thead th {\n",
              "        text-align: right;\n",
              "    }\n",
              "</style>\n",
              "<table border=\"1\" class=\"dataframe\">\n",
              "  <thead>\n",
              "    <tr style=\"text-align: right;\">\n",
              "      <th></th>\n",
              "      <th>reviewText</th>\n",
              "    </tr>\n",
              "  </thead>\n",
              "  <tbody>\n",
              "    <tr>\n",
              "      <th>0</th>\n",
              "      <td>Not much to write about here but it does exact...</td>\n",
              "    </tr>\n",
              "    <tr>\n",
              "      <th>1</th>\n",
              "      <td>The product does exactly as it should and is q...</td>\n",
              "    </tr>\n",
              "    <tr>\n",
              "      <th>2</th>\n",
              "      <td>The primary job of this device is to block the...</td>\n",
              "    </tr>\n",
              "    <tr>\n",
              "      <th>3</th>\n",
              "      <td>Nice windscreen protects my MXL mic and preven...</td>\n",
              "    </tr>\n",
              "    <tr>\n",
              "      <th>4</th>\n",
              "      <td>This pop filter is great It looks and performs...</td>\n",
              "    </tr>\n",
              "  </tbody>\n",
              "</table>\n",
              "</div>\n",
              "      <button class=\"colab-df-convert\" onclick=\"convertToInteractive('df-9f861642-4656-48cb-9b5b-f64544237880')\"\n",
              "              title=\"Convert this dataframe to an interactive table.\"\n",
              "              style=\"display:none;\">\n",
              "        \n",
              "  <svg xmlns=\"http://www.w3.org/2000/svg\" height=\"24px\"viewBox=\"0 0 24 24\"\n",
              "       width=\"24px\">\n",
              "    <path d=\"M0 0h24v24H0V0z\" fill=\"none\"/>\n",
              "    <path d=\"M18.56 5.44l.94 2.06.94-2.06 2.06-.94-2.06-.94-.94-2.06-.94 2.06-2.06.94zm-11 1L8.5 8.5l.94-2.06 2.06-.94-2.06-.94L8.5 2.5l-.94 2.06-2.06.94zm10 10l.94 2.06.94-2.06 2.06-.94-2.06-.94-.94-2.06-.94 2.06-2.06.94z\"/><path d=\"M17.41 7.96l-1.37-1.37c-.4-.4-.92-.59-1.43-.59-.52 0-1.04.2-1.43.59L10.3 9.45l-7.72 7.72c-.78.78-.78 2.05 0 2.83L4 21.41c.39.39.9.59 1.41.59.51 0 1.02-.2 1.41-.59l7.78-7.78 2.81-2.81c.8-.78.8-2.07 0-2.86zM5.41 20L4 18.59l7.72-7.72 1.47 1.35L5.41 20z\"/>\n",
              "  </svg>\n",
              "      </button>\n",
              "      \n",
              "  <style>\n",
              "    .colab-df-container {\n",
              "      display:flex;\n",
              "      flex-wrap:wrap;\n",
              "      gap: 12px;\n",
              "    }\n",
              "\n",
              "    .colab-df-convert {\n",
              "      background-color: #E8F0FE;\n",
              "      border: none;\n",
              "      border-radius: 50%;\n",
              "      cursor: pointer;\n",
              "      display: none;\n",
              "      fill: #1967D2;\n",
              "      height: 32px;\n",
              "      padding: 0 0 0 0;\n",
              "      width: 32px;\n",
              "    }\n",
              "\n",
              "    .colab-df-convert:hover {\n",
              "      background-color: #E2EBFA;\n",
              "      box-shadow: 0px 1px 2px rgba(60, 64, 67, 0.3), 0px 1px 3px 1px rgba(60, 64, 67, 0.15);\n",
              "      fill: #174EA6;\n",
              "    }\n",
              "\n",
              "    [theme=dark] .colab-df-convert {\n",
              "      background-color: #3B4455;\n",
              "      fill: #D2E3FC;\n",
              "    }\n",
              "\n",
              "    [theme=dark] .colab-df-convert:hover {\n",
              "      background-color: #434B5C;\n",
              "      box-shadow: 0px 1px 3px 1px rgba(0, 0, 0, 0.15);\n",
              "      filter: drop-shadow(0px 1px 2px rgba(0, 0, 0, 0.3));\n",
              "      fill: #FFFFFF;\n",
              "    }\n",
              "  </style>\n",
              "\n",
              "      <script>\n",
              "        const buttonEl =\n",
              "          document.querySelector('#df-9f861642-4656-48cb-9b5b-f64544237880 button.colab-df-convert');\n",
              "        buttonEl.style.display =\n",
              "          google.colab.kernel.accessAllowed ? 'block' : 'none';\n",
              "\n",
              "        async function convertToInteractive(key) {\n",
              "          const element = document.querySelector('#df-9f861642-4656-48cb-9b5b-f64544237880');\n",
              "          const dataTable =\n",
              "            await google.colab.kernel.invokeFunction('convertToInteractive',\n",
              "                                                     [key], {});\n",
              "          if (!dataTable) return;\n",
              "\n",
              "          const docLinkHtml = 'Like what you see? Visit the ' +\n",
              "            '<a target=\"_blank\" href=https://colab.research.google.com/notebooks/data_table.ipynb>data table notebook</a>'\n",
              "            + ' to learn more about interactive tables.';\n",
              "          element.innerHTML = '';\n",
              "          dataTable['output_type'] = 'display_data';\n",
              "          await google.colab.output.renderOutput(dataTable, element);\n",
              "          const docLink = document.createElement('div');\n",
              "          docLink.innerHTML = docLinkHtml;\n",
              "          element.appendChild(docLink);\n",
              "        }\n",
              "      </script>\n",
              "    </div>\n",
              "  </div>\n",
              "  "
            ]
          },
          "metadata": {},
          "execution_count": 48
        }
      ]
    },
    {
      "cell_type": "markdown",
      "source": [
        "  ### 3. Removing tags"
      ],
      "metadata": {
        "id": "8Jj1Z-ewD_qK"
      }
    },
    {
      "cell_type": "code",
      "source": [
        "import re\n",
        "i = 0;\n",
        "for line in df['reviewText']:\n",
        "    df.at[i, 'reviewText'] = re.sub('<[^<]+?>','', line)\n",
        "    i = i + 1\n",
        "df.head()"
      ],
      "metadata": {
        "colab": {
          "base_uri": "https://localhost:8080/",
          "height": 206
        },
        "id": "zwbB_ZQo8VFm",
        "outputId": "4b76f8f7-d918-4a85-d39d-74d957cee55a"
      },
      "execution_count": 50,
      "outputs": [
        {
          "output_type": "execute_result",
          "data": {
            "text/plain": [
              "                                          reviewText\n",
              "0  Not much to write about here but it does exact...\n",
              "1  The product does exactly as it should and is q...\n",
              "2  The primary job of this device is to block the...\n",
              "3  Nice windscreen protects my MXL mic and preven...\n",
              "4  This pop filter is great It looks and performs..."
            ],
            "text/html": [
              "\n",
              "  <div id=\"df-ffca481c-6607-415d-afc8-7f3d29c5a72b\">\n",
              "    <div class=\"colab-df-container\">\n",
              "      <div>\n",
              "<style scoped>\n",
              "    .dataframe tbody tr th:only-of-type {\n",
              "        vertical-align: middle;\n",
              "    }\n",
              "\n",
              "    .dataframe tbody tr th {\n",
              "        vertical-align: top;\n",
              "    }\n",
              "\n",
              "    .dataframe thead th {\n",
              "        text-align: right;\n",
              "    }\n",
              "</style>\n",
              "<table border=\"1\" class=\"dataframe\">\n",
              "  <thead>\n",
              "    <tr style=\"text-align: right;\">\n",
              "      <th></th>\n",
              "      <th>reviewText</th>\n",
              "    </tr>\n",
              "  </thead>\n",
              "  <tbody>\n",
              "    <tr>\n",
              "      <th>0</th>\n",
              "      <td>Not much to write about here but it does exact...</td>\n",
              "    </tr>\n",
              "    <tr>\n",
              "      <th>1</th>\n",
              "      <td>The product does exactly as it should and is q...</td>\n",
              "    </tr>\n",
              "    <tr>\n",
              "      <th>2</th>\n",
              "      <td>The primary job of this device is to block the...</td>\n",
              "    </tr>\n",
              "    <tr>\n",
              "      <th>3</th>\n",
              "      <td>Nice windscreen protects my MXL mic and preven...</td>\n",
              "    </tr>\n",
              "    <tr>\n",
              "      <th>4</th>\n",
              "      <td>This pop filter is great It looks and performs...</td>\n",
              "    </tr>\n",
              "  </tbody>\n",
              "</table>\n",
              "</div>\n",
              "      <button class=\"colab-df-convert\" onclick=\"convertToInteractive('df-ffca481c-6607-415d-afc8-7f3d29c5a72b')\"\n",
              "              title=\"Convert this dataframe to an interactive table.\"\n",
              "              style=\"display:none;\">\n",
              "        \n",
              "  <svg xmlns=\"http://www.w3.org/2000/svg\" height=\"24px\"viewBox=\"0 0 24 24\"\n",
              "       width=\"24px\">\n",
              "    <path d=\"M0 0h24v24H0V0z\" fill=\"none\"/>\n",
              "    <path d=\"M18.56 5.44l.94 2.06.94-2.06 2.06-.94-2.06-.94-.94-2.06-.94 2.06-2.06.94zm-11 1L8.5 8.5l.94-2.06 2.06-.94-2.06-.94L8.5 2.5l-.94 2.06-2.06.94zm10 10l.94 2.06.94-2.06 2.06-.94-2.06-.94-.94-2.06-.94 2.06-2.06.94z\"/><path d=\"M17.41 7.96l-1.37-1.37c-.4-.4-.92-.59-1.43-.59-.52 0-1.04.2-1.43.59L10.3 9.45l-7.72 7.72c-.78.78-.78 2.05 0 2.83L4 21.41c.39.39.9.59 1.41.59.51 0 1.02-.2 1.41-.59l7.78-7.78 2.81-2.81c.8-.78.8-2.07 0-2.86zM5.41 20L4 18.59l7.72-7.72 1.47 1.35L5.41 20z\"/>\n",
              "  </svg>\n",
              "      </button>\n",
              "      \n",
              "  <style>\n",
              "    .colab-df-container {\n",
              "      display:flex;\n",
              "      flex-wrap:wrap;\n",
              "      gap: 12px;\n",
              "    }\n",
              "\n",
              "    .colab-df-convert {\n",
              "      background-color: #E8F0FE;\n",
              "      border: none;\n",
              "      border-radius: 50%;\n",
              "      cursor: pointer;\n",
              "      display: none;\n",
              "      fill: #1967D2;\n",
              "      height: 32px;\n",
              "      padding: 0 0 0 0;\n",
              "      width: 32px;\n",
              "    }\n",
              "\n",
              "    .colab-df-convert:hover {\n",
              "      background-color: #E2EBFA;\n",
              "      box-shadow: 0px 1px 2px rgba(60, 64, 67, 0.3), 0px 1px 3px 1px rgba(60, 64, 67, 0.15);\n",
              "      fill: #174EA6;\n",
              "    }\n",
              "\n",
              "    [theme=dark] .colab-df-convert {\n",
              "      background-color: #3B4455;\n",
              "      fill: #D2E3FC;\n",
              "    }\n",
              "\n",
              "    [theme=dark] .colab-df-convert:hover {\n",
              "      background-color: #434B5C;\n",
              "      box-shadow: 0px 1px 3px 1px rgba(0, 0, 0, 0.15);\n",
              "      filter: drop-shadow(0px 1px 2px rgba(0, 0, 0, 0.3));\n",
              "      fill: #FFFFFF;\n",
              "    }\n",
              "  </style>\n",
              "\n",
              "      <script>\n",
              "        const buttonEl =\n",
              "          document.querySelector('#df-ffca481c-6607-415d-afc8-7f3d29c5a72b button.colab-df-convert');\n",
              "        buttonEl.style.display =\n",
              "          google.colab.kernel.accessAllowed ? 'block' : 'none';\n",
              "\n",
              "        async function convertToInteractive(key) {\n",
              "          const element = document.querySelector('#df-ffca481c-6607-415d-afc8-7f3d29c5a72b');\n",
              "          const dataTable =\n",
              "            await google.colab.kernel.invokeFunction('convertToInteractive',\n",
              "                                                     [key], {});\n",
              "          if (!dataTable) return;\n",
              "\n",
              "          const docLinkHtml = 'Like what you see? Visit the ' +\n",
              "            '<a target=\"_blank\" href=https://colab.research.google.com/notebooks/data_table.ipynb>data table notebook</a>'\n",
              "            + ' to learn more about interactive tables.';\n",
              "          element.innerHTML = '';\n",
              "          dataTable['output_type'] = 'display_data';\n",
              "          await google.colab.output.renderOutput(dataTable, element);\n",
              "          const docLink = document.createElement('div');\n",
              "          docLink.innerHTML = docLinkHtml;\n",
              "          element.appendChild(docLink);\n",
              "        }\n",
              "      </script>\n",
              "    </div>\n",
              "  </div>\n",
              "  "
            ]
          },
          "metadata": {},
          "execution_count": 50
        }
      ]
    },
    {
      "cell_type": "markdown",
      "source": [
        "  ### 4. Removing numbers"
      ],
      "metadata": {
        "id": "R9r36FGKEF55"
      }
    },
    {
      "cell_type": "code",
      "source": [
        "i = 0;\n",
        "for line in df['reviewText']:\n",
        "    df.at[i, 'reviewText'] = ''.join(c for c in line if not c.isdigit())\n",
        "    i = i + 1\n",
        "df.head()"
      ],
      "metadata": {
        "colab": {
          "base_uri": "https://localhost:8080/",
          "height": 206
        },
        "id": "cIxc-vm2_8Vq",
        "outputId": "c777aee4-d071-4f85-cb7c-6b68bc1a8eba"
      },
      "execution_count": 51,
      "outputs": [
        {
          "output_type": "execute_result",
          "data": {
            "text/plain": [
              "                                          reviewText\n",
              "0  Not much to write about here but it does exact...\n",
              "1  The product does exactly as it should and is q...\n",
              "2  The primary job of this device is to block the...\n",
              "3  Nice windscreen protects my MXL mic and preven...\n",
              "4  This pop filter is great It looks and performs..."
            ],
            "text/html": [
              "\n",
              "  <div id=\"df-1aabc10c-4d2c-4475-9873-bc775905da4b\">\n",
              "    <div class=\"colab-df-container\">\n",
              "      <div>\n",
              "<style scoped>\n",
              "    .dataframe tbody tr th:only-of-type {\n",
              "        vertical-align: middle;\n",
              "    }\n",
              "\n",
              "    .dataframe tbody tr th {\n",
              "        vertical-align: top;\n",
              "    }\n",
              "\n",
              "    .dataframe thead th {\n",
              "        text-align: right;\n",
              "    }\n",
              "</style>\n",
              "<table border=\"1\" class=\"dataframe\">\n",
              "  <thead>\n",
              "    <tr style=\"text-align: right;\">\n",
              "      <th></th>\n",
              "      <th>reviewText</th>\n",
              "    </tr>\n",
              "  </thead>\n",
              "  <tbody>\n",
              "    <tr>\n",
              "      <th>0</th>\n",
              "      <td>Not much to write about here but it does exact...</td>\n",
              "    </tr>\n",
              "    <tr>\n",
              "      <th>1</th>\n",
              "      <td>The product does exactly as it should and is q...</td>\n",
              "    </tr>\n",
              "    <tr>\n",
              "      <th>2</th>\n",
              "      <td>The primary job of this device is to block the...</td>\n",
              "    </tr>\n",
              "    <tr>\n",
              "      <th>3</th>\n",
              "      <td>Nice windscreen protects my MXL mic and preven...</td>\n",
              "    </tr>\n",
              "    <tr>\n",
              "      <th>4</th>\n",
              "      <td>This pop filter is great It looks and performs...</td>\n",
              "    </tr>\n",
              "  </tbody>\n",
              "</table>\n",
              "</div>\n",
              "      <button class=\"colab-df-convert\" onclick=\"convertToInteractive('df-1aabc10c-4d2c-4475-9873-bc775905da4b')\"\n",
              "              title=\"Convert this dataframe to an interactive table.\"\n",
              "              style=\"display:none;\">\n",
              "        \n",
              "  <svg xmlns=\"http://www.w3.org/2000/svg\" height=\"24px\"viewBox=\"0 0 24 24\"\n",
              "       width=\"24px\">\n",
              "    <path d=\"M0 0h24v24H0V0z\" fill=\"none\"/>\n",
              "    <path d=\"M18.56 5.44l.94 2.06.94-2.06 2.06-.94-2.06-.94-.94-2.06-.94 2.06-2.06.94zm-11 1L8.5 8.5l.94-2.06 2.06-.94-2.06-.94L8.5 2.5l-.94 2.06-2.06.94zm10 10l.94 2.06.94-2.06 2.06-.94-2.06-.94-.94-2.06-.94 2.06-2.06.94z\"/><path d=\"M17.41 7.96l-1.37-1.37c-.4-.4-.92-.59-1.43-.59-.52 0-1.04.2-1.43.59L10.3 9.45l-7.72 7.72c-.78.78-.78 2.05 0 2.83L4 21.41c.39.39.9.59 1.41.59.51 0 1.02-.2 1.41-.59l7.78-7.78 2.81-2.81c.8-.78.8-2.07 0-2.86zM5.41 20L4 18.59l7.72-7.72 1.47 1.35L5.41 20z\"/>\n",
              "  </svg>\n",
              "      </button>\n",
              "      \n",
              "  <style>\n",
              "    .colab-df-container {\n",
              "      display:flex;\n",
              "      flex-wrap:wrap;\n",
              "      gap: 12px;\n",
              "    }\n",
              "\n",
              "    .colab-df-convert {\n",
              "      background-color: #E8F0FE;\n",
              "      border: none;\n",
              "      border-radius: 50%;\n",
              "      cursor: pointer;\n",
              "      display: none;\n",
              "      fill: #1967D2;\n",
              "      height: 32px;\n",
              "      padding: 0 0 0 0;\n",
              "      width: 32px;\n",
              "    }\n",
              "\n",
              "    .colab-df-convert:hover {\n",
              "      background-color: #E2EBFA;\n",
              "      box-shadow: 0px 1px 2px rgba(60, 64, 67, 0.3), 0px 1px 3px 1px rgba(60, 64, 67, 0.15);\n",
              "      fill: #174EA6;\n",
              "    }\n",
              "\n",
              "    [theme=dark] .colab-df-convert {\n",
              "      background-color: #3B4455;\n",
              "      fill: #D2E3FC;\n",
              "    }\n",
              "\n",
              "    [theme=dark] .colab-df-convert:hover {\n",
              "      background-color: #434B5C;\n",
              "      box-shadow: 0px 1px 3px 1px rgba(0, 0, 0, 0.15);\n",
              "      filter: drop-shadow(0px 1px 2px rgba(0, 0, 0, 0.3));\n",
              "      fill: #FFFFFF;\n",
              "    }\n",
              "  </style>\n",
              "\n",
              "      <script>\n",
              "        const buttonEl =\n",
              "          document.querySelector('#df-1aabc10c-4d2c-4475-9873-bc775905da4b button.colab-df-convert');\n",
              "        buttonEl.style.display =\n",
              "          google.colab.kernel.accessAllowed ? 'block' : 'none';\n",
              "\n",
              "        async function convertToInteractive(key) {\n",
              "          const element = document.querySelector('#df-1aabc10c-4d2c-4475-9873-bc775905da4b');\n",
              "          const dataTable =\n",
              "            await google.colab.kernel.invokeFunction('convertToInteractive',\n",
              "                                                     [key], {});\n",
              "          if (!dataTable) return;\n",
              "\n",
              "          const docLinkHtml = 'Like what you see? Visit the ' +\n",
              "            '<a target=\"_blank\" href=https://colab.research.google.com/notebooks/data_table.ipynb>data table notebook</a>'\n",
              "            + ' to learn more about interactive tables.';\n",
              "          element.innerHTML = '';\n",
              "          dataTable['output_type'] = 'display_data';\n",
              "          await google.colab.output.renderOutput(dataTable, element);\n",
              "          const docLink = document.createElement('div');\n",
              "          docLink.innerHTML = docLinkHtml;\n",
              "          element.appendChild(docLink);\n",
              "        }\n",
              "      </script>\n",
              "    </div>\n",
              "  </div>\n",
              "  "
            ]
          },
          "metadata": {},
          "execution_count": 51
        }
      ]
    },
    {
      "cell_type": "markdown",
      "source": [
        "####5. Stop Words removal and conversion to Lowercase"
      ],
      "metadata": {
        "id": "iUO3owNkET2c"
      }
    },
    {
      "cell_type": "code",
      "source": [
        "import nltk\n",
        "nltk.download('stopwords')\n",
        "nltk.download('punkt')\n",
        "from nltk.corpus import stopwords\n",
        "stopword = set(stopwords.words('english'))"
      ],
      "metadata": {
        "colab": {
          "base_uri": "https://localhost:8080/"
        },
        "id": "bKwZpgmXAGRr",
        "outputId": "545020ff-3ca6-4ede-bf4a-f8638e35fc3a"
      },
      "execution_count": 52,
      "outputs": [
        {
          "output_type": "stream",
          "name": "stdout",
          "text": [
            "[nltk_data] Downloading package stopwords to /root/nltk_data...\n",
            "[nltk_data]   Unzipping corpora/stopwords.zip.\n",
            "[nltk_data] Downloading package punkt to /root/nltk_data...\n",
            "[nltk_data]   Unzipping tokenizers/punkt.zip.\n"
          ]
        }
      ]
    },
    {
      "cell_type": "code",
      "source": [
        "i = 0\n",
        "for line in df['reviewText']:\n",
        "    df.at[i, 'reviewText'] = ' '.join([i for i in line.lower().split() if i not in stopword])\n",
        "    i += 1\n",
        "df.head()"
      ],
      "metadata": {
        "colab": {
          "base_uri": "https://localhost:8080/",
          "height": 206
        },
        "id": "DOZb17fKAJgb",
        "outputId": "08cdb1e7-6485-4fd3-d94e-83e428fe679a"
      },
      "execution_count": 53,
      "outputs": [
        {
          "output_type": "execute_result",
          "data": {
            "text/plain": [
              "                                          reviewText\n",
              "0  much write exactly supposed filters pop sounds...\n",
              "1  product exactly quite affordablei realized dou...\n",
              "2  primary job device block breath would otherwis...\n",
              "3  nice windscreen protects mxl mic prevents pops...\n",
              "4  pop filter great looks performs like studio fi..."
            ],
            "text/html": [
              "\n",
              "  <div id=\"df-687c3533-0a5f-4ed5-b92b-c1002fbf05a3\">\n",
              "    <div class=\"colab-df-container\">\n",
              "      <div>\n",
              "<style scoped>\n",
              "    .dataframe tbody tr th:only-of-type {\n",
              "        vertical-align: middle;\n",
              "    }\n",
              "\n",
              "    .dataframe tbody tr th {\n",
              "        vertical-align: top;\n",
              "    }\n",
              "\n",
              "    .dataframe thead th {\n",
              "        text-align: right;\n",
              "    }\n",
              "</style>\n",
              "<table border=\"1\" class=\"dataframe\">\n",
              "  <thead>\n",
              "    <tr style=\"text-align: right;\">\n",
              "      <th></th>\n",
              "      <th>reviewText</th>\n",
              "    </tr>\n",
              "  </thead>\n",
              "  <tbody>\n",
              "    <tr>\n",
              "      <th>0</th>\n",
              "      <td>much write exactly supposed filters pop sounds...</td>\n",
              "    </tr>\n",
              "    <tr>\n",
              "      <th>1</th>\n",
              "      <td>product exactly quite affordablei realized dou...</td>\n",
              "    </tr>\n",
              "    <tr>\n",
              "      <th>2</th>\n",
              "      <td>primary job device block breath would otherwis...</td>\n",
              "    </tr>\n",
              "    <tr>\n",
              "      <th>3</th>\n",
              "      <td>nice windscreen protects mxl mic prevents pops...</td>\n",
              "    </tr>\n",
              "    <tr>\n",
              "      <th>4</th>\n",
              "      <td>pop filter great looks performs like studio fi...</td>\n",
              "    </tr>\n",
              "  </tbody>\n",
              "</table>\n",
              "</div>\n",
              "      <button class=\"colab-df-convert\" onclick=\"convertToInteractive('df-687c3533-0a5f-4ed5-b92b-c1002fbf05a3')\"\n",
              "              title=\"Convert this dataframe to an interactive table.\"\n",
              "              style=\"display:none;\">\n",
              "        \n",
              "  <svg xmlns=\"http://www.w3.org/2000/svg\" height=\"24px\"viewBox=\"0 0 24 24\"\n",
              "       width=\"24px\">\n",
              "    <path d=\"M0 0h24v24H0V0z\" fill=\"none\"/>\n",
              "    <path d=\"M18.56 5.44l.94 2.06.94-2.06 2.06-.94-2.06-.94-.94-2.06-.94 2.06-2.06.94zm-11 1L8.5 8.5l.94-2.06 2.06-.94-2.06-.94L8.5 2.5l-.94 2.06-2.06.94zm10 10l.94 2.06.94-2.06 2.06-.94-2.06-.94-.94-2.06-.94 2.06-2.06.94z\"/><path d=\"M17.41 7.96l-1.37-1.37c-.4-.4-.92-.59-1.43-.59-.52 0-1.04.2-1.43.59L10.3 9.45l-7.72 7.72c-.78.78-.78 2.05 0 2.83L4 21.41c.39.39.9.59 1.41.59.51 0 1.02-.2 1.41-.59l7.78-7.78 2.81-2.81c.8-.78.8-2.07 0-2.86zM5.41 20L4 18.59l7.72-7.72 1.47 1.35L5.41 20z\"/>\n",
              "  </svg>\n",
              "      </button>\n",
              "      \n",
              "  <style>\n",
              "    .colab-df-container {\n",
              "      display:flex;\n",
              "      flex-wrap:wrap;\n",
              "      gap: 12px;\n",
              "    }\n",
              "\n",
              "    .colab-df-convert {\n",
              "      background-color: #E8F0FE;\n",
              "      border: none;\n",
              "      border-radius: 50%;\n",
              "      cursor: pointer;\n",
              "      display: none;\n",
              "      fill: #1967D2;\n",
              "      height: 32px;\n",
              "      padding: 0 0 0 0;\n",
              "      width: 32px;\n",
              "    }\n",
              "\n",
              "    .colab-df-convert:hover {\n",
              "      background-color: #E2EBFA;\n",
              "      box-shadow: 0px 1px 2px rgba(60, 64, 67, 0.3), 0px 1px 3px 1px rgba(60, 64, 67, 0.15);\n",
              "      fill: #174EA6;\n",
              "    }\n",
              "\n",
              "    [theme=dark] .colab-df-convert {\n",
              "      background-color: #3B4455;\n",
              "      fill: #D2E3FC;\n",
              "    }\n",
              "\n",
              "    [theme=dark] .colab-df-convert:hover {\n",
              "      background-color: #434B5C;\n",
              "      box-shadow: 0px 1px 3px 1px rgba(0, 0, 0, 0.15);\n",
              "      filter: drop-shadow(0px 1px 2px rgba(0, 0, 0, 0.3));\n",
              "      fill: #FFFFFF;\n",
              "    }\n",
              "  </style>\n",
              "\n",
              "      <script>\n",
              "        const buttonEl =\n",
              "          document.querySelector('#df-687c3533-0a5f-4ed5-b92b-c1002fbf05a3 button.colab-df-convert');\n",
              "        buttonEl.style.display =\n",
              "          google.colab.kernel.accessAllowed ? 'block' : 'none';\n",
              "\n",
              "        async function convertToInteractive(key) {\n",
              "          const element = document.querySelector('#df-687c3533-0a5f-4ed5-b92b-c1002fbf05a3');\n",
              "          const dataTable =\n",
              "            await google.colab.kernel.invokeFunction('convertToInteractive',\n",
              "                                                     [key], {});\n",
              "          if (!dataTable) return;\n",
              "\n",
              "          const docLinkHtml = 'Like what you see? Visit the ' +\n",
              "            '<a target=\"_blank\" href=https://colab.research.google.com/notebooks/data_table.ipynb>data table notebook</a>'\n",
              "            + ' to learn more about interactive tables.';\n",
              "          element.innerHTML = '';\n",
              "          dataTable['output_type'] = 'display_data';\n",
              "          await google.colab.output.renderOutput(dataTable, element);\n",
              "          const docLink = document.createElement('div');\n",
              "          docLink.innerHTML = docLinkHtml;\n",
              "          element.appendChild(docLink);\n",
              "        }\n",
              "      </script>\n",
              "    </div>\n",
              "  </div>\n",
              "  "
            ]
          },
          "metadata": {},
          "execution_count": 53
        }
      ]
    },
    {
      "cell_type": "markdown",
      "source": [
        "  ### 6. Tokenization"
      ],
      "metadata": {
        "id": "J9B46b8sEcVm"
      }
    },
    {
      "cell_type": "code",
      "source": [
        "i = 0\n",
        "for line in df['reviewText']:\n",
        "    df.at[i, 'reviewText'] = nltk.word_tokenize(line)\n",
        "    i += 1\n",
        "df.head()"
      ],
      "metadata": {
        "colab": {
          "base_uri": "https://localhost:8080/",
          "height": 206
        },
        "id": "DaqtFiVOATbs",
        "outputId": "50b47f8c-f5c3-49d8-af54-9ce0900a56b3"
      },
      "execution_count": 54,
      "outputs": [
        {
          "output_type": "execute_result",
          "data": {
            "text/plain": [
              "                                          reviewText\n",
              "0  [much, write, exactly, supposed, filters, pop,...\n",
              "1  [product, exactly, quite, affordablei, realize...\n",
              "2  [primary, job, device, block, breath, would, o...\n",
              "3  [nice, windscreen, protects, mxl, mic, prevent...\n",
              "4  [pop, filter, great, looks, performs, like, st..."
            ],
            "text/html": [
              "\n",
              "  <div id=\"df-3db07b1c-9fc0-47f9-b542-b87cd470a1cd\">\n",
              "    <div class=\"colab-df-container\">\n",
              "      <div>\n",
              "<style scoped>\n",
              "    .dataframe tbody tr th:only-of-type {\n",
              "        vertical-align: middle;\n",
              "    }\n",
              "\n",
              "    .dataframe tbody tr th {\n",
              "        vertical-align: top;\n",
              "    }\n",
              "\n",
              "    .dataframe thead th {\n",
              "        text-align: right;\n",
              "    }\n",
              "</style>\n",
              "<table border=\"1\" class=\"dataframe\">\n",
              "  <thead>\n",
              "    <tr style=\"text-align: right;\">\n",
              "      <th></th>\n",
              "      <th>reviewText</th>\n",
              "    </tr>\n",
              "  </thead>\n",
              "  <tbody>\n",
              "    <tr>\n",
              "      <th>0</th>\n",
              "      <td>[much, write, exactly, supposed, filters, pop,...</td>\n",
              "    </tr>\n",
              "    <tr>\n",
              "      <th>1</th>\n",
              "      <td>[product, exactly, quite, affordablei, realize...</td>\n",
              "    </tr>\n",
              "    <tr>\n",
              "      <th>2</th>\n",
              "      <td>[primary, job, device, block, breath, would, o...</td>\n",
              "    </tr>\n",
              "    <tr>\n",
              "      <th>3</th>\n",
              "      <td>[nice, windscreen, protects, mxl, mic, prevent...</td>\n",
              "    </tr>\n",
              "    <tr>\n",
              "      <th>4</th>\n",
              "      <td>[pop, filter, great, looks, performs, like, st...</td>\n",
              "    </tr>\n",
              "  </tbody>\n",
              "</table>\n",
              "</div>\n",
              "      <button class=\"colab-df-convert\" onclick=\"convertToInteractive('df-3db07b1c-9fc0-47f9-b542-b87cd470a1cd')\"\n",
              "              title=\"Convert this dataframe to an interactive table.\"\n",
              "              style=\"display:none;\">\n",
              "        \n",
              "  <svg xmlns=\"http://www.w3.org/2000/svg\" height=\"24px\"viewBox=\"0 0 24 24\"\n",
              "       width=\"24px\">\n",
              "    <path d=\"M0 0h24v24H0V0z\" fill=\"none\"/>\n",
              "    <path d=\"M18.56 5.44l.94 2.06.94-2.06 2.06-.94-2.06-.94-.94-2.06-.94 2.06-2.06.94zm-11 1L8.5 8.5l.94-2.06 2.06-.94-2.06-.94L8.5 2.5l-.94 2.06-2.06.94zm10 10l.94 2.06.94-2.06 2.06-.94-2.06-.94-.94-2.06-.94 2.06-2.06.94z\"/><path d=\"M17.41 7.96l-1.37-1.37c-.4-.4-.92-.59-1.43-.59-.52 0-1.04.2-1.43.59L10.3 9.45l-7.72 7.72c-.78.78-.78 2.05 0 2.83L4 21.41c.39.39.9.59 1.41.59.51 0 1.02-.2 1.41-.59l7.78-7.78 2.81-2.81c.8-.78.8-2.07 0-2.86zM5.41 20L4 18.59l7.72-7.72 1.47 1.35L5.41 20z\"/>\n",
              "  </svg>\n",
              "      </button>\n",
              "      \n",
              "  <style>\n",
              "    .colab-df-container {\n",
              "      display:flex;\n",
              "      flex-wrap:wrap;\n",
              "      gap: 12px;\n",
              "    }\n",
              "\n",
              "    .colab-df-convert {\n",
              "      background-color: #E8F0FE;\n",
              "      border: none;\n",
              "      border-radius: 50%;\n",
              "      cursor: pointer;\n",
              "      display: none;\n",
              "      fill: #1967D2;\n",
              "      height: 32px;\n",
              "      padding: 0 0 0 0;\n",
              "      width: 32px;\n",
              "    }\n",
              "\n",
              "    .colab-df-convert:hover {\n",
              "      background-color: #E2EBFA;\n",
              "      box-shadow: 0px 1px 2px rgba(60, 64, 67, 0.3), 0px 1px 3px 1px rgba(60, 64, 67, 0.15);\n",
              "      fill: #174EA6;\n",
              "    }\n",
              "\n",
              "    [theme=dark] .colab-df-convert {\n",
              "      background-color: #3B4455;\n",
              "      fill: #D2E3FC;\n",
              "    }\n",
              "\n",
              "    [theme=dark] .colab-df-convert:hover {\n",
              "      background-color: #434B5C;\n",
              "      box-shadow: 0px 1px 3px 1px rgba(0, 0, 0, 0.15);\n",
              "      filter: drop-shadow(0px 1px 2px rgba(0, 0, 0, 0.3));\n",
              "      fill: #FFFFFF;\n",
              "    }\n",
              "  </style>\n",
              "\n",
              "      <script>\n",
              "        const buttonEl =\n",
              "          document.querySelector('#df-3db07b1c-9fc0-47f9-b542-b87cd470a1cd button.colab-df-convert');\n",
              "        buttonEl.style.display =\n",
              "          google.colab.kernel.accessAllowed ? 'block' : 'none';\n",
              "\n",
              "        async function convertToInteractive(key) {\n",
              "          const element = document.querySelector('#df-3db07b1c-9fc0-47f9-b542-b87cd470a1cd');\n",
              "          const dataTable =\n",
              "            await google.colab.kernel.invokeFunction('convertToInteractive',\n",
              "                                                     [key], {});\n",
              "          if (!dataTable) return;\n",
              "\n",
              "          const docLinkHtml = 'Like what you see? Visit the ' +\n",
              "            '<a target=\"_blank\" href=https://colab.research.google.com/notebooks/data_table.ipynb>data table notebook</a>'\n",
              "            + ' to learn more about interactive tables.';\n",
              "          element.innerHTML = '';\n",
              "          dataTable['output_type'] = 'display_data';\n",
              "          await google.colab.output.renderOutput(dataTable, element);\n",
              "          const docLink = document.createElement('div');\n",
              "          docLink.innerHTML = docLinkHtml;\n",
              "          element.appendChild(docLink);\n",
              "        }\n",
              "      </script>\n",
              "    </div>\n",
              "  </div>\n",
              "  "
            ]
          },
          "metadata": {},
          "execution_count": 54
        }
      ]
    },
    {
      "cell_type": "markdown",
      "source": [
        "  ### 7. Lemmatization"
      ],
      "metadata": {
        "id": "7bJtrcPSEr5w"
      }
    },
    {
      "cell_type": "code",
      "source": [
        "nltk.download('wordnet')\n",
        "from nltk.stem import WordNetLemmatizer\n",
        "lemmatizer = WordNetLemmatizer()"
      ],
      "metadata": {
        "colab": {
          "base_uri": "https://localhost:8080/"
        },
        "id": "xUdIDjxAAaqB",
        "outputId": "311c7452-0d19-4786-df51-13b5ea4f4722"
      },
      "execution_count": 55,
      "outputs": [
        {
          "output_type": "stream",
          "name": "stdout",
          "text": [
            "[nltk_data] Downloading package wordnet to /root/nltk_data...\n",
            "[nltk_data]   Unzipping corpora/wordnet.zip.\n"
          ]
        }
      ]
    },
    {
      "cell_type": "code",
      "source": [
        "i = 0\n",
        "for words in df['reviewText']:\n",
        "    new_words = []\n",
        "    for word in words:\n",
        "        new_word = lemmatizer.lemmatize(word)\n",
        "        new_words.append(new_word)\n",
        "    df.at[i, 'reviewText'] = new_words\n",
        "    i += 1\n",
        "df.head()"
      ],
      "metadata": {
        "colab": {
          "base_uri": "https://localhost:8080/",
          "height": 206
        },
        "id": "IJZShm_7AgeV",
        "outputId": "cfb98d52-0fe4-45a1-998f-c271f34d770e"
      },
      "execution_count": 56,
      "outputs": [
        {
          "output_type": "execute_result",
          "data": {
            "text/plain": [
              "                                          reviewText\n",
              "0  [much, write, exactly, supposed, filter, pop, ...\n",
              "1  [product, exactly, quite, affordablei, realize...\n",
              "2  [primary, job, device, block, breath, would, o...\n",
              "3  [nice, windscreen, protects, mxl, mic, prevent...\n",
              "4  [pop, filter, great, look, performs, like, stu..."
            ],
            "text/html": [
              "\n",
              "  <div id=\"df-396a99f7-10ce-4105-acc7-8729d4f260a0\">\n",
              "    <div class=\"colab-df-container\">\n",
              "      <div>\n",
              "<style scoped>\n",
              "    .dataframe tbody tr th:only-of-type {\n",
              "        vertical-align: middle;\n",
              "    }\n",
              "\n",
              "    .dataframe tbody tr th {\n",
              "        vertical-align: top;\n",
              "    }\n",
              "\n",
              "    .dataframe thead th {\n",
              "        text-align: right;\n",
              "    }\n",
              "</style>\n",
              "<table border=\"1\" class=\"dataframe\">\n",
              "  <thead>\n",
              "    <tr style=\"text-align: right;\">\n",
              "      <th></th>\n",
              "      <th>reviewText</th>\n",
              "    </tr>\n",
              "  </thead>\n",
              "  <tbody>\n",
              "    <tr>\n",
              "      <th>0</th>\n",
              "      <td>[much, write, exactly, supposed, filter, pop, ...</td>\n",
              "    </tr>\n",
              "    <tr>\n",
              "      <th>1</th>\n",
              "      <td>[product, exactly, quite, affordablei, realize...</td>\n",
              "    </tr>\n",
              "    <tr>\n",
              "      <th>2</th>\n",
              "      <td>[primary, job, device, block, breath, would, o...</td>\n",
              "    </tr>\n",
              "    <tr>\n",
              "      <th>3</th>\n",
              "      <td>[nice, windscreen, protects, mxl, mic, prevent...</td>\n",
              "    </tr>\n",
              "    <tr>\n",
              "      <th>4</th>\n",
              "      <td>[pop, filter, great, look, performs, like, stu...</td>\n",
              "    </tr>\n",
              "  </tbody>\n",
              "</table>\n",
              "</div>\n",
              "      <button class=\"colab-df-convert\" onclick=\"convertToInteractive('df-396a99f7-10ce-4105-acc7-8729d4f260a0')\"\n",
              "              title=\"Convert this dataframe to an interactive table.\"\n",
              "              style=\"display:none;\">\n",
              "        \n",
              "  <svg xmlns=\"http://www.w3.org/2000/svg\" height=\"24px\"viewBox=\"0 0 24 24\"\n",
              "       width=\"24px\">\n",
              "    <path d=\"M0 0h24v24H0V0z\" fill=\"none\"/>\n",
              "    <path d=\"M18.56 5.44l.94 2.06.94-2.06 2.06-.94-2.06-.94-.94-2.06-.94 2.06-2.06.94zm-11 1L8.5 8.5l.94-2.06 2.06-.94-2.06-.94L8.5 2.5l-.94 2.06-2.06.94zm10 10l.94 2.06.94-2.06 2.06-.94-2.06-.94-.94-2.06-.94 2.06-2.06.94z\"/><path d=\"M17.41 7.96l-1.37-1.37c-.4-.4-.92-.59-1.43-.59-.52 0-1.04.2-1.43.59L10.3 9.45l-7.72 7.72c-.78.78-.78 2.05 0 2.83L4 21.41c.39.39.9.59 1.41.59.51 0 1.02-.2 1.41-.59l7.78-7.78 2.81-2.81c.8-.78.8-2.07 0-2.86zM5.41 20L4 18.59l7.72-7.72 1.47 1.35L5.41 20z\"/>\n",
              "  </svg>\n",
              "      </button>\n",
              "      \n",
              "  <style>\n",
              "    .colab-df-container {\n",
              "      display:flex;\n",
              "      flex-wrap:wrap;\n",
              "      gap: 12px;\n",
              "    }\n",
              "\n",
              "    .colab-df-convert {\n",
              "      background-color: #E8F0FE;\n",
              "      border: none;\n",
              "      border-radius: 50%;\n",
              "      cursor: pointer;\n",
              "      display: none;\n",
              "      fill: #1967D2;\n",
              "      height: 32px;\n",
              "      padding: 0 0 0 0;\n",
              "      width: 32px;\n",
              "    }\n",
              "\n",
              "    .colab-df-convert:hover {\n",
              "      background-color: #E2EBFA;\n",
              "      box-shadow: 0px 1px 2px rgba(60, 64, 67, 0.3), 0px 1px 3px 1px rgba(60, 64, 67, 0.15);\n",
              "      fill: #174EA6;\n",
              "    }\n",
              "\n",
              "    [theme=dark] .colab-df-convert {\n",
              "      background-color: #3B4455;\n",
              "      fill: #D2E3FC;\n",
              "    }\n",
              "\n",
              "    [theme=dark] .colab-df-convert:hover {\n",
              "      background-color: #434B5C;\n",
              "      box-shadow: 0px 1px 3px 1px rgba(0, 0, 0, 0.15);\n",
              "      filter: drop-shadow(0px 1px 2px rgba(0, 0, 0, 0.3));\n",
              "      fill: #FFFFFF;\n",
              "    }\n",
              "  </style>\n",
              "\n",
              "      <script>\n",
              "        const buttonEl =\n",
              "          document.querySelector('#df-396a99f7-10ce-4105-acc7-8729d4f260a0 button.colab-df-convert');\n",
              "        buttonEl.style.display =\n",
              "          google.colab.kernel.accessAllowed ? 'block' : 'none';\n",
              "\n",
              "        async function convertToInteractive(key) {\n",
              "          const element = document.querySelector('#df-396a99f7-10ce-4105-acc7-8729d4f260a0');\n",
              "          const dataTable =\n",
              "            await google.colab.kernel.invokeFunction('convertToInteractive',\n",
              "                                                     [key], {});\n",
              "          if (!dataTable) return;\n",
              "\n",
              "          const docLinkHtml = 'Like what you see? Visit the ' +\n",
              "            '<a target=\"_blank\" href=https://colab.research.google.com/notebooks/data_table.ipynb>data table notebook</a>'\n",
              "            + ' to learn more about interactive tables.';\n",
              "          element.innerHTML = '';\n",
              "          dataTable['output_type'] = 'display_data';\n",
              "          await google.colab.output.renderOutput(dataTable, element);\n",
              "          const docLink = document.createElement('div');\n",
              "          docLink.innerHTML = docLinkHtml;\n",
              "          element.appendChild(docLink);\n",
              "        }\n",
              "      </script>\n",
              "    </div>\n",
              "  </div>\n",
              "  "
            ]
          },
          "metadata": {},
          "execution_count": 56
        }
      ]
    },
    {
      "cell_type": "markdown",
      "source": [
        "### 8. Stemming"
      ],
      "metadata": {
        "id": "s3jOvw0aE_LD"
      }
    },
    {
      "cell_type": "code",
      "source": [
        "from nltk.stem.porter import PorterStemmer\n",
        "stemmer = PorterStemmer()"
      ],
      "metadata": {
        "id": "UTfi1oBrAoJ7"
      },
      "execution_count": 57,
      "outputs": []
    },
    {
      "cell_type": "code",
      "source": [
        "i = 0\n",
        "for words in df['reviewText']:\n",
        "    new_words = []\n",
        "    for word in words:\n",
        "        new_word = stemmer.stem(word)\n",
        "        new_words.append(new_word)\n",
        "    df.at[i, 'reviewText'] = new_words\n",
        "    i += 1\n",
        "df.head()"
      ],
      "metadata": {
        "colab": {
          "base_uri": "https://localhost:8080/",
          "height": 206
        },
        "id": "a0MbuK5ZAq2_",
        "outputId": "fb2cd65c-8918-4ff2-8e92-c0ee9503966b"
      },
      "execution_count": 58,
      "outputs": [
        {
          "output_type": "execute_result",
          "data": {
            "text/plain": [
              "                                          reviewText\n",
              "0  [much, write, exactli, suppos, filter, pop, so...\n",
              "1  [product, exactli, quit, affordablei, realiz, ...\n",
              "2  [primari, job, devic, block, breath, would, ot...\n",
              "3  [nice, windscreen, protect, mxl, mic, prevent,...\n",
              "4  [pop, filter, great, look, perform, like, stud..."
            ],
            "text/html": [
              "\n",
              "  <div id=\"df-a658fd69-ad22-4854-8bf9-5787f0b1f248\">\n",
              "    <div class=\"colab-df-container\">\n",
              "      <div>\n",
              "<style scoped>\n",
              "    .dataframe tbody tr th:only-of-type {\n",
              "        vertical-align: middle;\n",
              "    }\n",
              "\n",
              "    .dataframe tbody tr th {\n",
              "        vertical-align: top;\n",
              "    }\n",
              "\n",
              "    .dataframe thead th {\n",
              "        text-align: right;\n",
              "    }\n",
              "</style>\n",
              "<table border=\"1\" class=\"dataframe\">\n",
              "  <thead>\n",
              "    <tr style=\"text-align: right;\">\n",
              "      <th></th>\n",
              "      <th>reviewText</th>\n",
              "    </tr>\n",
              "  </thead>\n",
              "  <tbody>\n",
              "    <tr>\n",
              "      <th>0</th>\n",
              "      <td>[much, write, exactli, suppos, filter, pop, so...</td>\n",
              "    </tr>\n",
              "    <tr>\n",
              "      <th>1</th>\n",
              "      <td>[product, exactli, quit, affordablei, realiz, ...</td>\n",
              "    </tr>\n",
              "    <tr>\n",
              "      <th>2</th>\n",
              "      <td>[primari, job, devic, block, breath, would, ot...</td>\n",
              "    </tr>\n",
              "    <tr>\n",
              "      <th>3</th>\n",
              "      <td>[nice, windscreen, protect, mxl, mic, prevent,...</td>\n",
              "    </tr>\n",
              "    <tr>\n",
              "      <th>4</th>\n",
              "      <td>[pop, filter, great, look, perform, like, stud...</td>\n",
              "    </tr>\n",
              "  </tbody>\n",
              "</table>\n",
              "</div>\n",
              "      <button class=\"colab-df-convert\" onclick=\"convertToInteractive('df-a658fd69-ad22-4854-8bf9-5787f0b1f248')\"\n",
              "              title=\"Convert this dataframe to an interactive table.\"\n",
              "              style=\"display:none;\">\n",
              "        \n",
              "  <svg xmlns=\"http://www.w3.org/2000/svg\" height=\"24px\"viewBox=\"0 0 24 24\"\n",
              "       width=\"24px\">\n",
              "    <path d=\"M0 0h24v24H0V0z\" fill=\"none\"/>\n",
              "    <path d=\"M18.56 5.44l.94 2.06.94-2.06 2.06-.94-2.06-.94-.94-2.06-.94 2.06-2.06.94zm-11 1L8.5 8.5l.94-2.06 2.06-.94-2.06-.94L8.5 2.5l-.94 2.06-2.06.94zm10 10l.94 2.06.94-2.06 2.06-.94-2.06-.94-.94-2.06-.94 2.06-2.06.94z\"/><path d=\"M17.41 7.96l-1.37-1.37c-.4-.4-.92-.59-1.43-.59-.52 0-1.04.2-1.43.59L10.3 9.45l-7.72 7.72c-.78.78-.78 2.05 0 2.83L4 21.41c.39.39.9.59 1.41.59.51 0 1.02-.2 1.41-.59l7.78-7.78 2.81-2.81c.8-.78.8-2.07 0-2.86zM5.41 20L4 18.59l7.72-7.72 1.47 1.35L5.41 20z\"/>\n",
              "  </svg>\n",
              "      </button>\n",
              "      \n",
              "  <style>\n",
              "    .colab-df-container {\n",
              "      display:flex;\n",
              "      flex-wrap:wrap;\n",
              "      gap: 12px;\n",
              "    }\n",
              "\n",
              "    .colab-df-convert {\n",
              "      background-color: #E8F0FE;\n",
              "      border: none;\n",
              "      border-radius: 50%;\n",
              "      cursor: pointer;\n",
              "      display: none;\n",
              "      fill: #1967D2;\n",
              "      height: 32px;\n",
              "      padding: 0 0 0 0;\n",
              "      width: 32px;\n",
              "    }\n",
              "\n",
              "    .colab-df-convert:hover {\n",
              "      background-color: #E2EBFA;\n",
              "      box-shadow: 0px 1px 2px rgba(60, 64, 67, 0.3), 0px 1px 3px 1px rgba(60, 64, 67, 0.15);\n",
              "      fill: #174EA6;\n",
              "    }\n",
              "\n",
              "    [theme=dark] .colab-df-convert {\n",
              "      background-color: #3B4455;\n",
              "      fill: #D2E3FC;\n",
              "    }\n",
              "\n",
              "    [theme=dark] .colab-df-convert:hover {\n",
              "      background-color: #434B5C;\n",
              "      box-shadow: 0px 1px 3px 1px rgba(0, 0, 0, 0.15);\n",
              "      filter: drop-shadow(0px 1px 2px rgba(0, 0, 0, 0.3));\n",
              "      fill: #FFFFFF;\n",
              "    }\n",
              "  </style>\n",
              "\n",
              "      <script>\n",
              "        const buttonEl =\n",
              "          document.querySelector('#df-a658fd69-ad22-4854-8bf9-5787f0b1f248 button.colab-df-convert');\n",
              "        buttonEl.style.display =\n",
              "          google.colab.kernel.accessAllowed ? 'block' : 'none';\n",
              "\n",
              "        async function convertToInteractive(key) {\n",
              "          const element = document.querySelector('#df-a658fd69-ad22-4854-8bf9-5787f0b1f248');\n",
              "          const dataTable =\n",
              "            await google.colab.kernel.invokeFunction('convertToInteractive',\n",
              "                                                     [key], {});\n",
              "          if (!dataTable) return;\n",
              "\n",
              "          const docLinkHtml = 'Like what you see? Visit the ' +\n",
              "            '<a target=\"_blank\" href=https://colab.research.google.com/notebooks/data_table.ipynb>data table notebook</a>'\n",
              "            + ' to learn more about interactive tables.';\n",
              "          element.innerHTML = '';\n",
              "          dataTable['output_type'] = 'display_data';\n",
              "          await google.colab.output.renderOutput(dataTable, element);\n",
              "          const docLink = document.createElement('div');\n",
              "          docLink.innerHTML = docLinkHtml;\n",
              "          element.appendChild(docLink);\n",
              "        }\n",
              "      </script>\n",
              "    </div>\n",
              "  </div>\n",
              "  "
            ]
          },
          "metadata": {},
          "execution_count": 58
        }
      ]
    },
    {
      "cell_type": "markdown",
      "source": [
        "## Creation of Postings list and Inverted Index"
      ],
      "metadata": {
        "id": "f8N_-MzlFRmm"
      }
    },
    {
      "cell_type": "code",
      "source": [
        "index1 = dict()\n",
        "i = 0\n",
        "for words in df['reviewText']:\n",
        "    for word in words:\n",
        "        if word not in index1.keys():\n",
        "            #add word to index along with docID\n",
        "            #docIDs will be pre-sorted\n",
        "            index1[word] = []\n",
        "        elif i not in index1[word]:\n",
        "            index1[word].append(i)\n",
        "    i += 1"
      ],
      "metadata": {
        "id": "6kFvtvfhA5ej"
      },
      "execution_count": 59,
      "outputs": []
    },
    {
      "cell_type": "markdown",
      "source": [
        "### 1. Sorting the terms"
      ],
      "metadata": {
        "id": "tNEpscV1FjFG"
      }
    },
    {
      "cell_type": "code",
      "source": [
        "index = dict()\n",
        "for i in sorted(index1):\n",
        "    index[i] = index1[i]"
      ],
      "metadata": {
        "id": "gHtlbKW1A-yh"
      },
      "execution_count": 60,
      "outputs": []
    },
    {
      "cell_type": "code",
      "source": [
        "count = 0\n",
        "for j in index.items():\n",
        "    print(j)\n",
        "    count += 1\n",
        "    ### print only the first 25 terms\n",
        "    if count == 25:\n",
        "        break"
      ],
      "metadata": {
        "colab": {
          "base_uri": "https://localhost:8080/"
        },
        "id": "yXxLwZJCBCwp",
        "outputId": "4cb51f0d-3b30-4705-e0a8-f5a6f8dc17a7"
      },
      "execution_count": 61,
      "outputs": [
        {
          "output_type": "stream",
          "name": "stdout",
          "text": [
            "('aa', [4158, 4369, 6366, 6417, 6917, 6923, 7556, 7839, 8839, 9118, 9344, 10040])\n",
            "('aaa', [4484, 5033, 5036, 5407, 5984, 6374, 6385, 6540, 7315, 7556, 8497, 8500, 9643])\n",
            "('ab', [1398, 1994, 3092, 4445, 4872, 4873, 4874, 4875, 5129, 5246, 6192, 7121, 7464, 7493, 7695, 8056, 8059, 8063, 8398, 8532, 8788, 8954, 9049, 9092, 9283, 9886, 10202])\n",
            "('aback', [])\n",
            "('abalon', [1695, 1704, 1723, 1731, 3602, 4523, 6085])\n",
            "('abalonefend', [])\n",
            "('abandon', [])\n",
            "('abb', [])\n",
            "('abcd', [7297])\n",
            "('abe', [])\n",
            "('abehring', [8065])\n",
            "('abelton', [])\n",
            "('abercrombi', [])\n",
            "('abhorr', [])\n",
            "('abi', [])\n",
            "('abid', [])\n",
            "('abil', [346, 390, 467, 1177, 1430, 1558, 1563, 1894, 1945, 1958, 2218, 2507, 2524, 2667, 3044, 3233, 3300, 3444, 3613, 3789, 4169, 4420, 4821, 4958, 4982, 5101, 5356, 5420, 5731, 5777, 5778, 6115, 6162, 6169, 6189, 6207, 6576, 6915, 6927, 6998, 7061, 7275, 7298, 7427, 7465, 7472, 7480, 7487, 7526, 7714, 7782, 8000, 8068, 8274, 8311, 8357, 8367, 8407, 8424, 8480, 8487, 8496, 8500, 8644, 8647, 8727, 8777, 8782, 9024, 9146, 9178, 9296, 9338, 9458, 9489, 9607, 9704, 9790, 9894, 9895, 9930, 9941, 10014, 10017, 10042, 10158, 10197])\n",
            "('abit', [3830, 4019, 8281])\n",
            "('abl', [20, 101, 177, 186, 218, 358, 378, 381, 386, 426, 463, 511, 549, 581, 605, 606, 626, 656, 762, 790, 796, 831, 900, 1042, 1046, 1088, 1116, 1193, 1216, 1217, 1305, 1341, 1343, 1346, 1354, 1414, 1424, 1500, 1554, 1732, 1771, 1781, 1811, 1826, 1851, 1875, 1908, 1948, 1964, 2100, 2214, 2243, 2263, 2303, 2576, 2616, 2649, 2675, 2689, 2739, 2766, 2941, 2972, 3043, 3055, 3112, 3294, 3357, 3358, 3441, 3493, 3524, 3621, 3668, 3678, 3719, 3769, 3771, 3782, 3787, 3792, 3800, 4097, 4144, 4146, 4179, 4180, 4189, 4223, 4258, 4311, 4334, 4366, 4415, 4523, 4602, 4633, 4653, 4701, 4713, 4732, 4736, 4740, 4743, 4764, 4766, 4775, 4802, 4809, 4843, 4844, 4883, 4898, 4962, 4981, 4982, 4984, 5011, 5029, 5064, 5065, 5081, 5093, 5129, 5154, 5232, 5235, 5286, 5289, 5306, 5357, 5361, 5398, 5406, 5420, 5431, 5437, 5483, 5562, 5586, 5593, 5600, 5603, 5694, 5736, 5737, 5746, 5777, 5781, 5787, 5870, 5871, 5911, 5937, 5969, 5984, 6002, 6067, 6111, 6164, 6187, 6291, 6309, 6311, 6391, 6414, 6461, 6548, 6551, 6557, 6562, 6576, 6579, 6642, 6669, 6678, 6693, 6696, 6708, 6725, 6731, 6732, 6803, 6808, 6886, 6917, 6923, 6928, 6933, 6980, 7014, 7020, 7029, 7033, 7041, 7044, 7122, 7166, 7192, 7200, 7201, 7202, 7205, 7219, 7270, 7275, 7281, 7287, 7293, 7298, 7360, 7375, 7380, 7496, 7521, 7539, 7546, 7563, 7574, 7580, 7582, 7586, 7596, 7597, 7604, 7716, 7749, 7788, 8005, 8036, 8065, 8068, 8081, 8084, 8086, 8154, 8204, 8284, 8311, 8391, 8392, 8410, 8412, 8424, 8426, 8477, 8484, 8540, 8561, 8583, 8590, 8644, 8645, 8667, 8713, 8734, 8771, 8885, 8910, 8950, 8955, 8956, 8969, 8978, 8992, 9046, 9078, 9116, 9118, 9161, 9177, 9182, 9191, 9220, 9228, 9257, 9293, 9302, 9312, 9335, 9352, 9359, 9419, 9433, 9449, 9450, 9475, 9485, 9489, 9532, 9545, 9597, 9626, 9637, 9647, 9657, 9676, 9736, 9783, 9790, 9825, 9828, 9894, 9904, 9926, 9938, 9948, 9999, 10004, 10012, 10026, 10040, 10042, 10043, 10047, 10096, 10101, 10201, 10225, 10237, 10257])\n",
            "('ableto', [])\n",
            "('ableton', [4981, 4983, 5249, 7352, 7353, 8475, 8477, 8478, 8494, 8517, 8636, 9346, 9351, 9357, 9358, 9359, 9364])\n",
            "('abnorm', [3488, 9518])\n",
            "('abo', [])\n",
            "('abob', [])\n",
            "('abomin', [])\n"
          ]
        }
      ]
    },
    {
      "cell_type": "markdown",
      "source": [
        "## Testing by searching words"
      ],
      "metadata": {
        "id": "1GcYVJzSFr8v"
      }
    },
    {
      "cell_type": "markdown",
      "source": [
        "### Test 1:Intersection of two search results: "
      ],
      "metadata": {
        "id": "YdtmyhKWGc7K"
      }
    },
    {
      "cell_type": "code",
      "source": [
        "import timeit\n",
        "start1 = timeit.default_timer()\n",
        "\n",
        "d_book = set(index['product'])\n",
        "d_school = set(index['job'])\n",
        "d_query = d_book.intersection(d_school)\n",
        "\n",
        "end1 = timeit.default_timer()\n",
        "\n",
        "print(\"The documents containing both product AND job are:\\n\", sorted(list(d_query)))\n",
        "print(\"\\nNumber of documents retrieved: \", len(d_query))"
      ],
      "metadata": {
        "colab": {
          "base_uri": "https://localhost:8080/"
        },
        "id": "502JJkXEBGAH",
        "outputId": "eb68f720-21bb-4077-af4f-7bb5bc1c6b69"
      },
      "execution_count": 63,
      "outputs": [
        {
          "output_type": "stream",
          "name": "stdout",
          "text": [
            "The documents containing both product AND job are:\n",
            " [56, 152, 222, 228, 235, 337, 341, 401, 485, 544, 729, 1092, 1148, 1605, 1607, 1884, 1899, 2396, 2663, 2873, 2921, 3425, 3442, 3727, 4009, 4170, 4235, 4469, 4523, 4608, 4653, 4957, 5074, 5111, 5210, 5525, 5726, 5948, 6347, 6515, 6534, 6751, 6758, 7014, 7249, 7305, 8238, 8312, 8624, 8643, 8660, 8667, 8668, 9119, 9177, 9192, 9303, 9324, 9335, 9394, 9514, 9540, 9573, 9861, 9887, 9902, 9957]\n",
            "\n",
            "Number of documents retrieved:  67\n"
          ]
        }
      ]
    },
    {
      "cell_type": "markdown",
      "source": [
        "###Test 2: Either of the two search results:"
      ],
      "metadata": {
        "id": "0tm56GIkGrEr"
      }
    },
    {
      "cell_type": "code",
      "source": [
        "start2 = timeit.default_timer()\n",
        "\n",
        "d_photo = index['product']\n",
        "d_teacher = index['job']\n",
        "d_query = sorted(list(set(d_photo) | set(d_teacher)))\n",
        "\n",
        "end2 = timeit.default_timer()\n",
        "\n",
        "print(\"The documents containing product OR job are:\\n\", d_query)\n",
        "print(\"\\nNumber of documents retrieved: \", len(d_query))"
      ],
      "metadata": {
        "colab": {
          "base_uri": "https://localhost:8080/"
        },
        "id": "MY3dF4BEBa7d",
        "outputId": "b2eb86d7-c97f-4c1e-8719-5fb9dfef6172"
      },
      "execution_count": 65,
      "outputs": [
        {
          "output_type": "stream",
          "name": "stdout",
          "text": [
            "The documents containing product OR job are:\n",
            " [1, 18, 27, 32, 37, 52, 56, 57, 61, 63, 67, 73, 77, 80, 90, 93, 99, 103, 107, 113, 123, 125, 128, 134, 139, 149, 150, 152, 153, 154, 156, 165, 168, 184, 188, 206, 222, 226, 228, 234, 235, 242, 256, 258, 259, 263, 268, 271, 286, 289, 291, 303, 307, 317, 337, 338, 341, 355, 359, 362, 371, 390, 393, 394, 397, 400, 401, 404, 412, 415, 416, 430, 442, 453, 455, 456, 457, 485, 489, 490, 503, 510, 515, 524, 527, 529, 541, 544, 551, 553, 554, 571, 585, 588, 595, 596, 597, 600, 604, 609, 611, 617, 632, 650, 655, 674, 685, 688, 694, 695, 698, 719, 721, 724, 726, 727, 729, 739, 779, 818, 840, 841, 843, 870, 873, 883, 894, 920, 936, 937, 944, 951, 952, 956, 960, 963, 965, 966, 967, 968, 969, 972, 975, 976, 978, 979, 980, 985, 988, 990, 993, 996, 998, 1003, 1007, 1027, 1028, 1040, 1042, 1047, 1049, 1069, 1070, 1086, 1087, 1092, 1094, 1098, 1099, 1100, 1101, 1120, 1122, 1145, 1148, 1180, 1194, 1209, 1212, 1227, 1229, 1231, 1233, 1236, 1237, 1242, 1246, 1251, 1252, 1256, 1260, 1264, 1265, 1274, 1283, 1285, 1296, 1297, 1306, 1322, 1327, 1330, 1333, 1339, 1346, 1347, 1363, 1364, 1367, 1368, 1369, 1370, 1372, 1374, 1375, 1377, 1380, 1382, 1387, 1389, 1390, 1392, 1395, 1400, 1424, 1433, 1474, 1484, 1517, 1530, 1536, 1556, 1575, 1591, 1605, 1607, 1609, 1616, 1620, 1622, 1627, 1628, 1630, 1631, 1636, 1642, 1643, 1648, 1651, 1677, 1679, 1680, 1709, 1717, 1718, 1746, 1762, 1773, 1780, 1792, 1799, 1809, 1813, 1814, 1838, 1858, 1871, 1872, 1874, 1879, 1883, 1884, 1887, 1891, 1896, 1899, 1901, 1903, 1905, 1909, 1927, 1934, 1963, 1967, 1992, 1996, 2001, 2012, 2016, 2029, 2041, 2048, 2052, 2054, 2066, 2068, 2070, 2088, 2095, 2102, 2124, 2132, 2139, 2171, 2173, 2179, 2211, 2225, 2226, 2238, 2260, 2262, 2263, 2266, 2277, 2295, 2297, 2298, 2303, 2304, 2309, 2310, 2317, 2322, 2328, 2333, 2335, 2338, 2339, 2340, 2351, 2361, 2364, 2369, 2391, 2396, 2399, 2410, 2419, 2427, 2432, 2436, 2458, 2464, 2467, 2469, 2474, 2475, 2479, 2481, 2484, 2485, 2488, 2491, 2496, 2498, 2500, 2507, 2511, 2519, 2526, 2529, 2530, 2535, 2536, 2538, 2540, 2557, 2562, 2571, 2584, 2590, 2592, 2593, 2597, 2603, 2609, 2610, 2613, 2618, 2629, 2645, 2646, 2649, 2651, 2657, 2663, 2668, 2670, 2673, 2676, 2677, 2678, 2685, 2698, 2704, 2705, 2709, 2713, 2720, 2722, 2732, 2741, 2745, 2750, 2751, 2756, 2759, 2760, 2766, 2768, 2772, 2774, 2775, 2793, 2799, 2832, 2850, 2873, 2884, 2921, 2928, 2960, 3000, 3002, 3005, 3006, 3020, 3032, 3048, 3053, 3056, 3057, 3060, 3072, 3076, 3077, 3078, 3081, 3082, 3083, 3086, 3097, 3103, 3106, 3108, 3113, 3118, 3121, 3142, 3145, 3148, 3151, 3173, 3174, 3175, 3193, 3194, 3197, 3205, 3210, 3214, 3216, 3221, 3229, 3238, 3240, 3242, 3244, 3251, 3280, 3307, 3309, 3333, 3374, 3375, 3380, 3381, 3387, 3396, 3405, 3419, 3420, 3421, 3423, 3425, 3429, 3431, 3436, 3437, 3442, 3448, 3449, 3467, 3489, 3496, 3533, 3538, 3546, 3572, 3578, 3601, 3623, 3629, 3630, 3635, 3636, 3640, 3652, 3666, 3674, 3680, 3687, 3700, 3708, 3719, 3727, 3731, 3738, 3746, 3751, 3753, 3760, 3770, 3771, 3777, 3800, 3806, 3807, 3815, 3821, 3834, 3837, 3845, 3855, 3861, 3867, 3877, 3880, 3895, 3898, 3901, 3911, 3912, 3935, 3938, 3942, 3944, 3945, 3949, 3952, 3978, 3986, 3991, 4003, 4009, 4016, 4027, 4046, 4048, 4050, 4072, 4082, 4090, 4094, 4095, 4100, 4112, 4149, 4157, 4158, 4160, 4163, 4164, 4168, 4170, 4172, 4175, 4178, 4180, 4183, 4189, 4202, 4217, 4227, 4233, 4235, 4243, 4246, 4247, 4260, 4268, 4284, 4297, 4298, 4301, 4302, 4304, 4318, 4326, 4334, 4335, 4339, 4341, 4342, 4346, 4348, 4350, 4352, 4353, 4354, 4356, 4358, 4362, 4366, 4367, 4369, 4373, 4378, 4380, 4403, 4430, 4438, 4440, 4441, 4442, 4445, 4452, 4454, 4456, 4457, 4466, 4469, 4471, 4472, 4478, 4485, 4488, 4492, 4506, 4507, 4520, 4523, 4525, 4531, 4544, 4552, 4555, 4556, 4557, 4559, 4571, 4582, 4587, 4606, 4608, 4619, 4621, 4622, 4642, 4644, 4648, 4650, 4652, 4653, 4654, 4658, 4659, 4666, 4668, 4671, 4672, 4679, 4681, 4688, 4689, 4707, 4708, 4710, 4713, 4717, 4719, 4720, 4723, 4725, 4740, 4741, 4742, 4748, 4754, 4765, 4777, 4779, 4793, 4794, 4798, 4800, 4802, 4806, 4809, 4814, 4818, 4820, 4821, 4844, 4847, 4863, 4865, 4870, 4871, 4872, 4880, 4885, 4888, 4889, 4893, 4906, 4907, 4911, 4915, 4922, 4943, 4945, 4946, 4948, 4957, 4962, 4966, 4967, 4969, 4971, 4973, 4982, 4992, 4998, 5007, 5027, 5032, 5033, 5034, 5048, 5050, 5056, 5059, 5061, 5062, 5064, 5068, 5073, 5074, 5079, 5082, 5083, 5086, 5108, 5111, 5113, 5116, 5127, 5135, 5136, 5139, 5142, 5178, 5184, 5192, 5198, 5205, 5210, 5219, 5221, 5225, 5237, 5241, 5243, 5245, 5246, 5248, 5267, 5268, 5269, 5274, 5278, 5280, 5282, 5293, 5300, 5303, 5311, 5330, 5332, 5363, 5365, 5372, 5383, 5405, 5409, 5411, 5413, 5414, 5416, 5418, 5426, 5429, 5434, 5435, 5436, 5437, 5440, 5444, 5449, 5464, 5465, 5470, 5472, 5473, 5485, 5486, 5490, 5495, 5511, 5513, 5519, 5521, 5524, 5525, 5527, 5529, 5531, 5537, 5544, 5551, 5553, 5560, 5562, 5566, 5574, 5598, 5606, 5620, 5621, 5627, 5638, 5643, 5659, 5661, 5663, 5670, 5682, 5686, 5690, 5699, 5704, 5721, 5725, 5726, 5728, 5731, 5733, 5738, 5742, 5746, 5762, 5770, 5804, 5805, 5806, 5807, 5813, 5814, 5819, 5822, 5836, 5838, 5839, 5843, 5860, 5869, 5871, 5891, 5896, 5910, 5915, 5938, 5942, 5948, 5953, 5957, 5963, 5964, 5969, 5971, 5972, 5979, 5984, 5993, 5999, 6008, 6012, 6013, 6025, 6028, 6032, 6038, 6041, 6042, 6045, 6046, 6049, 6072, 6096, 6100, 6113, 6119, 6130, 6145, 6147, 6151, 6166, 6190, 6206, 6209, 6220, 6232, 6244, 6254, 6259, 6277, 6278, 6279, 6285, 6286, 6290, 6293, 6297, 6312, 6316, 6326, 6327, 6329, 6342, 6343, 6346, 6347, 6355, 6357, 6358, 6363, 6364, 6369, 6371, 6373, 6375, 6377, 6379, 6381, 6382, 6383, 6385, 6390, 6396, 6398, 6403, 6407, 6410, 6414, 6419, 6420, 6425, 6433, 6441, 6457, 6459, 6471, 6476, 6479, 6482, 6487, 6493, 6506, 6511, 6512, 6513, 6515, 6518, 6521, 6522, 6523, 6528, 6530, 6532, 6534, 6544, 6546, 6548, 6554, 6571, 6572, 6575, 6576, 6584, 6589, 6593, 6600, 6612, 6619, 6623, 6628, 6648, 6654, 6655, 6659, 6665, 6672, 6687, 6689, 6694, 6705, 6716, 6730, 6737, 6740, 6750, 6751, 6754, 6756, 6757, 6758, 6760, 6788, 6815, 6818, 6839, 6851, 6863, 6865, 6867, 6871, 6885, 6890, 6891, 6901, 6912, 6920, 6926, 6932, 6934, 6936, 6939, 6941, 6949, 6956, 6957, 6973, 6978, 6980, 6990, 7001, 7014, 7020, 7027, 7029, 7035, 7055, 7060, 7068, 7071, 7093, 7115, 7118, 7119, 7127, 7128, 7133, 7134, 7139, 7149, 7158, 7161, 7162, 7185, 7186, 7192, 7201, 7208, 7212, 7229, 7234, 7240, 7249, 7255, 7259, 7267, 7274, 7277, 7296, 7300, 7302, 7304, 7305, 7311, 7315, 7316, 7327, 7343, 7355, 7356, 7357, 7362, 7376, 7381, 7394, 7402, 7410, 7417, 7424, 7425, 7431, 7436, 7438, 7439, 7459, 7461, 7465, 7466, 7467, 7468, 7470, 7483, 7485, 7489, 7491, 7492, 7493, 7501, 7504, 7506, 7507, 7518, 7523, 7529, 7530, 7543, 7546, 7547, 7566, 7568, 7571, 7576, 7582, 7585, 7596, 7616, 7627, 7649, 7662, 7668, 7682, 7684, 7687, 7690, 7704, 7715, 7730, 7736, 7737, 7742, 7743, 7755, 7757, 7758, 7763, 7770, 7779, 7793, 7824, 7832, 7835, 7839, 7849, 7857, 7867, 7869, 7878, 7915, 7920, 7922, 7928, 7935, 7941, 7962, 7966, 7968, 7973, 7977, 7981, 7983, 7985, 7987, 7998, 8003, 8005, 8022, 8024, 8030, 8031, 8033, 8063, 8068, 8077, 8078, 8084, 8097, 8105, 8121, 8122, 8128, 8136, 8139, 8146, 8151, 8152, 8157, 8173, 8177, 8178, 8180, 8184, 8187, 8188, 8193, 8205, 8210, 8212, 8213, 8218, 8223, 8224, 8227, 8235, 8238, 8241, 8248, 8256, 8267, 8270, 8272, 8284, 8294, 8305, 8306, 8312, 8325, 8330, 8335, 8336, 8339, 8357, 8367, 8376, 8380, 8383, 8389, 8395, 8396, 8399, 8409, 8410, 8412, 8415, 8426, 8434, 8448, 8449, 8454, 8456, 8457, 8461, 8471, 8476, 8491, 8497, 8500, 8511, 8518, 8521, 8529, 8537, 8538, 8540, 8554, 8556, 8570, 8580, 8583, 8587, 8588, 8591, 8594, 8595, 8605, 8606, 8607, 8617, 8623, 8624, 8626, 8631, 8643, 8647, 8651, 8652, 8653, 8656, 8659, 8660, 8667, 8668, 8689, 8690, 8691, 8692, 8699, 8708, 8713, 8723, 8733, 8755, 8756, 8762, 8763, 8782, 8790, 8792, 8798, 8799, 8805, 8812, 8813, 8817, 8829, 8846, 8883, 8895, 8900, 8902, 8907, 8912, 8916, 8942, 8943, 8948, 8953, 8959, 8964, 8966, 8972, 8975, 8988, 9001, 9003, 9024, 9035, 9043, 9048, 9050, 9052, 9053, 9069, 9073, 9082, 9083, 9085, 9088, 9095, 9097, 9098, 9099, 9100, 9104, 9105, 9111, 9119, 9125, 9132, 9135, 9143, 9144, 9151, 9155, 9164, 9176, 9177, 9179, 9190, 9191, 9192, 9193, 9201, 9214, 9220, 9226, 9228, 9235, 9236, 9249, 9252, 9267, 9269, 9276, 9279, 9289, 9295, 9301, 9303, 9305, 9315, 9320, 9324, 9325, 9333, 9335, 9336, 9337, 9343, 9345, 9347, 9350, 9353, 9371, 9373, 9376, 9379, 9391, 9392, 9394, 9398, 9400, 9416, 9422, 9426, 9434, 9436, 9449, 9450, 9453, 9455, 9460, 9469, 9477, 9485, 9512, 9514, 9516, 9518, 9529, 9530, 9532, 9540, 9542, 9555, 9562, 9567, 9573, 9595, 9599, 9604, 9634, 9645, 9654, 9657, 9673, 9674, 9677, 9678, 9681, 9682, 9683, 9687, 9689, 9693, 9702, 9704, 9705, 9720, 9721, 9722, 9724, 9726, 9727, 9730, 9736, 9739, 9757, 9758, 9770, 9777, 9779, 9781, 9782, 9785, 9786, 9790, 9794, 9797, 9799, 9800, 9803, 9809, 9814, 9815, 9825, 9851, 9854, 9861, 9863, 9869, 9880, 9883, 9885, 9886, 9887, 9892, 9894, 9897, 9901, 9902, 9925, 9930, 9935, 9939, 9949, 9951, 9952, 9954, 9956, 9957, 9959, 9961, 9973, 9977, 9978, 9980, 9981, 9983, 9987, 9993, 9994, 9995, 10002, 10024, 10026, 10031, 10034, 10039, 10043, 10045, 10049, 10053, 10077, 10081, 10099, 10103, 10108, 10122, 10131, 10135, 10138, 10141, 10152, 10154, 10169, 10174, 10184, 10190, 10193, 10201, 10217, 10244, 10246, 10247, 10249, 10252, 10260]\n",
            "\n",
            "Number of documents retrieved:  1584\n"
          ]
        }
      ]
    },
    {
      "cell_type": "markdown",
      "source": [
        "### Execution Time for Test1:"
      ],
      "metadata": {
        "id": "lAEUcJE8GzfN"
      }
    },
    {
      "cell_type": "code",
      "source": [
        "executionTime1 = end1 - start1\n",
        "print(\"Retrieval Time for Query 1: \", executionTime1)"
      ],
      "metadata": {
        "colab": {
          "base_uri": "https://localhost:8080/"
        },
        "id": "Uq3ClcoOBllX",
        "outputId": "b3feb480-b7a4-4434-bbba-022cdcab2208"
      },
      "execution_count": 66,
      "outputs": [
        {
          "output_type": "stream",
          "name": "stdout",
          "text": [
            "Retrieval Time for Query 1:  0.00026699900035964674\n"
          ]
        }
      ]
    },
    {
      "cell_type": "markdown",
      "source": [
        "### Execution time for Test2:"
      ],
      "metadata": {
        "id": "gFdojCOCG4k4"
      }
    },
    {
      "cell_type": "code",
      "source": [
        "executionTime2 = end2 - start2\n",
        "print(\"Retrieval Time for Query 2: \", executionTime2)"
      ],
      "metadata": {
        "colab": {
          "base_uri": "https://localhost:8080/"
        },
        "id": "cxFf3cu2Bo6H",
        "outputId": "9ef06ecf-aa41-4dae-ab80-6a5ef600d78a"
      },
      "execution_count": 67,
      "outputs": [
        {
          "output_type": "stream",
          "name": "stdout",
          "text": [
            "Retrieval Time for Query 2:  0.0006747649999852001\n"
          ]
        }
      ]
    }
  ]
}